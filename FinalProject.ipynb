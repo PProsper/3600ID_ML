{
  "nbformat": 4,
  "nbformat_minor": 0,
  "metadata": {
    "colab": {
      "name": "FinalProject.ipynb",
      "provenance": [],
      "collapsed_sections": [],
      "include_colab_link": true
    },
    "kernelspec": {
      "name": "python3",
      "display_name": "Python 3"
    }
  },
  "cells": [
    {
      "cell_type": "markdown",
      "metadata": {
        "id": "view-in-github",
        "colab_type": "text"
      },
      "source": [
        "<a href=\"https://colab.research.google.com/github/PProsper/3600ID_ML/blob/master/FinalProject.ipynb\" target=\"_parent\"><img src=\"https://colab.research.google.com/assets/colab-badge.svg\" alt=\"Open In Colab\"/></a>"
      ]
    },
    {
      "cell_type": "markdown",
      "metadata": {
        "id": "cH8BIiUxbm_z"
      },
      "source": [
        "Original work statement:\n",
        "Please write your name here to indicate that your worksheet is the result of your own work, and you have not copied from sources without citing them (this is plagiarism and is not acceptable). Identical or very similar worksheet will share the credit.\n",
        "\n",
        "Your name: Jesenia Fuentes,Patrice Prosper,Ognila Biswas "
      ]
    },
    {
      "cell_type": "code",
      "metadata": {
        "id": "rwjnD_RZbh2d"
      },
      "source": [
        "import pandas as pd\n",
        "import numpy as np\n",
        "import matplotlib\n",
        "import matplotlib.pyplot as plt\n",
        "from sklearn import metrics \n",
        "%matplotlib inline\n",
        "from sklearn import linear_model\n",
        "from numpy import linalg as la\n",
        "from sklearn.preprocessing import PolynomialFeatures"
      ],
      "execution_count": 9,
      "outputs": []
    },
    {
      "cell_type": "code",
      "metadata": {
        "id": "FfhSm_QnjEEc"
      },
      "source": [
        "from google.colab import files"
      ],
      "execution_count": 10,
      "outputs": []
    },
    {
      "cell_type": "code",
      "metadata": {
        "id": "lhRlfSo8cpzV"
      },
      "source": [
        "props = pd.read_csv('GalaxyProperties.csv', sep = ',')\n",
        "spectra = pd.read_csv('spectra.csv', sep = ',')\n",
        "specs = pd.read_excel('spectra.xlsx')\n",
        "wave = pd.read_csv('wavelengths.csv', sep = ',', header= None)"
      ],
      "execution_count": 11,
      "outputs": []
    },
    {
      "cell_type": "code",
      "metadata": {
        "colab": {
          "base_uri": "https://localhost:8080/"
        },
        "id": "gS6IcNWgqyPv",
        "outputId": "e0faad0f-512e-41a3-a370-8b514240e8e8"
      },
      "source": [
        "props.shape"
      ],
      "execution_count": 12,
      "outputs": [
        {
          "output_type": "execute_result",
          "data": {
            "text/plain": [
              "(1000, 5)"
            ]
          },
          "metadata": {
            "tags": []
          },
          "execution_count": 12
        }
      ]
    },
    {
      "cell_type": "code",
      "metadata": {
        "colab": {
          "base_uri": "https://localhost:8080/",
          "height": 79
        },
        "id": "rNe8qLpKmFZ_",
        "outputId": "f6326498-2f74-44e8-f859-32088f6a2288"
      },
      "source": [
        "props.head(1)"
      ],
      "execution_count": 13,
      "outputs": [
        {
          "output_type": "execute_result",
          "data": {
            "text/html": [
              "<div>\n",
              "<style scoped>\n",
              "    .dataframe tbody tr th:only-of-type {\n",
              "        vertical-align: middle;\n",
              "    }\n",
              "\n",
              "    .dataframe tbody tr th {\n",
              "        vertical-align: top;\n",
              "    }\n",
              "\n",
              "    .dataframe thead th {\n",
              "        text-align: right;\n",
              "    }\n",
              "</style>\n",
              "<table border=\"1\" class=\"dataframe\">\n",
              "  <thead>\n",
              "    <tr style=\"text-align: right;\">\n",
              "      <th></th>\n",
              "      <th>Unnamed: 0</th>\n",
              "      <th>dust_av</th>\n",
              "      <th>age</th>\n",
              "      <th>mass</th>\n",
              "      <th>tauGyr</th>\n",
              "    </tr>\n",
              "  </thead>\n",
              "  <tbody>\n",
              "    <tr>\n",
              "      <th>0</th>\n",
              "      <td>0</td>\n",
              "      <td>0.164869</td>\n",
              "      <td>0.203291</td>\n",
              "      <td>7.885367</td>\n",
              "      <td>0.033035</td>\n",
              "    </tr>\n",
              "  </tbody>\n",
              "</table>\n",
              "</div>"
            ],
            "text/plain": [
              "   Unnamed: 0   dust_av       age      mass    tauGyr\n",
              "0           0  0.164869  0.203291  7.885367  0.033035"
            ]
          },
          "metadata": {
            "tags": []
          },
          "execution_count": 13
        }
      ]
    },
    {
      "cell_type": "code",
      "metadata": {
        "colab": {
          "base_uri": "https://localhost:8080/"
        },
        "id": "K0siswclvmEe",
        "outputId": "27f130d6-fd1e-41d7-b67a-dbb452c468fc"
      },
      "source": [
        "spectra.shape"
      ],
      "execution_count": 14,
      "outputs": [
        {
          "output_type": "execute_result",
          "data": {
            "text/plain": [
              "(1000, 1)"
            ]
          },
          "metadata": {
            "tags": []
          },
          "execution_count": 14
        }
      ]
    },
    {
      "cell_type": "code",
      "metadata": {
        "colab": {
          "base_uri": "https://localhost:8080/"
        },
        "id": "1kJ6xkMOrT6R",
        "outputId": "880a4392-aed4-4d6e-92c3-40ef7d67cbaf"
      },
      "source": [
        "spectra.info()"
      ],
      "execution_count": 15,
      "outputs": [
        {
          "output_type": "stream",
          "text": [
            "<class 'pandas.core.frame.DataFrame'>\n",
            "RangeIndex: 1000 entries, 0 to 999\n",
            "Data columns (total 1 columns):\n",
            " #   Column  Non-Null Count  Dtype \n",
            "---  ------  --------------  ----- \n",
            " 0   head    1000 non-null   object\n",
            "dtypes: object(1)\n",
            "memory usage: 7.9+ KB\n"
          ],
          "name": "stdout"
        }
      ]
    },
    {
      "cell_type": "code",
      "metadata": {
        "colab": {
          "base_uri": "https://localhost:8080/"
        },
        "id": "HAc8JCnMGDHk",
        "outputId": "b1f29d7b-abaa-40f6-a254-591eb2a59690"
      },
      "source": [
        "specs.shape"
      ],
      "execution_count": 16,
      "outputs": [
        {
          "output_type": "execute_result",
          "data": {
            "text/plain": [
              "(1000, 850)"
            ]
          },
          "metadata": {
            "tags": []
          },
          "execution_count": 16
        }
      ]
    },
    {
      "cell_type": "code",
      "metadata": {
        "colab": {
          "base_uri": "https://localhost:8080/"
        },
        "id": "0zeColo1P3qj",
        "outputId": "8d99c834-5055-4d70-ca97-81ab915d2f72"
      },
      "source": [
        "specs.loc[0:1].values"
      ],
      "execution_count": 17,
      "outputs": [
        {
          "output_type": "execute_result",
          "data": {
            "text/plain": [
              "array([[0.010532 , 0.0118543, 0.0114774, ..., 0.0235315, 0.0235232,\n",
              "        0.0235604],\n",
              "       [0.0122055, 0.0134793, 0.0133496, ..., 0.0439096, 0.0435937,\n",
              "        0.0437942]])"
            ]
          },
          "metadata": {
            "tags": []
          },
          "execution_count": 17
        }
      ]
    },
    {
      "cell_type": "code",
      "metadata": {
        "colab": {
          "base_uri": "https://localhost:8080/"
        },
        "id": "9XF1rsmWF_z2",
        "outputId": "555d2399-f683-4e9c-8fb5-c497c1b9620f"
      },
      "source": [
        "wave.shape"
      ],
      "execution_count": 18,
      "outputs": [
        {
          "output_type": "execute_result",
          "data": {
            "text/plain": [
              "(850, 1)"
            ]
          },
          "metadata": {
            "tags": []
          },
          "execution_count": 18
        }
      ]
    },
    {
      "cell_type": "code",
      "metadata": {
        "colab": {
          "base_uri": "https://localhost:8080/"
        },
        "id": "nyYNIkxnQUJU",
        "outputId": "10c0562b-d605-4c7e-8d75-eae3f4a6d4d9"
      },
      "source": [
        "wave.values[0:5]"
      ],
      "execution_count": 19,
      "outputs": [
        {
          "output_type": "execute_result",
          "data": {
            "text/plain": [
              "array([[ 995.952],\n",
              "       [2005.169],\n",
              "       [2014.43 ],\n",
              "       [2023.732],\n",
              "       [2033.078]])"
            ]
          },
          "metadata": {
            "tags": []
          },
          "execution_count": 19
        }
      ]
    },
    {
      "cell_type": "code",
      "metadata": {
        "colab": {
          "base_uri": "https://localhost:8080/",
          "height": 283
        },
        "id": "0-RseNalJgxp",
        "outputId": "18b61f0b-0979-4e4c-f01e-5a96ac4a987b"
      },
      "source": [
        "plt.figure()\n",
        "x = wave.values\n",
        "y = specs.loc[500,:].values\n",
        "plt.plot(x, y)\n",
        "y2 = specs.loc[998,:].values\n",
        "plt.plot(x, y2)\n",
        "y3 = specs.loc[0,:].values\n",
        "plt.plot(x, y3)"
      ],
      "execution_count": 20,
      "outputs": [
        {
          "output_type": "execute_result",
          "data": {
            "text/plain": [
              "[<matplotlib.lines.Line2D at 0x7f6747916ef0>]"
            ]
          },
          "metadata": {
            "tags": []
          },
          "execution_count": 20
        },
        {
          "output_type": "display_data",
          "data": {
            "image/png": "[encoded data removed]",
            "text/plain": [
              "<Figure size 432x288 with 1 Axes>"
            ]
          },
          "metadata": {
            "tags": [],
            "needs_background": "light"
          }
        }
      ]
    },
    {
      "cell_type": "code",
      "metadata": {
        "colab": {
          "base_uri": "https://localhost:8080/",
          "height": 225
        },
        "id": "oZfBGsj9H6xz",
        "outputId": "1563183e-e01f-400a-b3ac-c62aa9fd7498"
      },
      "source": [
        "dust_avs = props['dust_av']\r\n",
        "display(dust_avs)"
      ],
      "execution_count": 21,
      "outputs": [
        {
          "output_type": "display_data",
          "data": {
            "text/plain": [
              "0      0.164869\n",
              "1      0.200852\n",
              "2      0.197863\n",
              "3      0.001000\n",
              "4      0.001000\n",
              "         ...   \n",
              "995    0.322905\n",
              "996    0.870794\n",
              "997    0.001000\n",
              "998    0.232163\n",
              "999    0.456984\n",
              "Name: dust_av, Length: 1000, dtype: float64"
            ]
          },
          "metadata": {
            "tags": []
          }
        }
      ]
    },
    {
      "cell_type": "code",
      "metadata": {
        "id": "wId3CCyu3mzt"
      },
      "source": [
        "df_dust = pd.concat([dust_avs,specs], axis=1, sort =False) \r\n",
        "#used specs which is the excel comma seperated version of the spectra csv\r\n",
        "#the cross val function was considering each row of the single column in the spectra csv as a string rather than 850 seperate floats"
      ],
      "execution_count": 22,
      "outputs": []
    },
    {
      "cell_type": "code",
      "metadata": {
        "colab": {
          "base_uri": "https://localhost:8080/",
          "height": 129
        },
        "id": "sfGuF3H1J0jq",
        "outputId": "503e6505-11f0-4ac5-81b8-96b7380091f9"
      },
      "source": [
        "df_dust.head(1)"
      ],
      "execution_count": 23,
      "outputs": [
        {
          "output_type": "execute_result",
          "data": {
            "text/html": [
              "<div>\n",
              "<style scoped>\n",
              "    .dataframe tbody tr th:only-of-type {\n",
              "        vertical-align: middle;\n",
              "    }\n",
              "\n",
              "    .dataframe tbody tr th {\n",
              "        vertical-align: top;\n",
              "    }\n",
              "\n",
              "    .dataframe thead th {\n",
              "        text-align: right;\n",
              "    }\n",
              "</style>\n",
              "<table border=\"1\" class=\"dataframe\">\n",
              "  <thead>\n",
              "    <tr style=\"text-align: right;\">\n",
              "      <th></th>\n",
              "      <th>dust_av</th>\n",
              "      <th>Column1</th>\n",
              "      <th>Column2</th>\n",
              "      <th>Column3</th>\n",
              "      <th>Column4</th>\n",
              "      <th>Column5</th>\n",
              "      <th>Column6</th>\n",
              "      <th>Column7</th>\n",
              "      <th>Column8</th>\n",
              "      <th>Column9</th>\n",
              "      <th>Column10</th>\n",
              "      <th>Column11</th>\n",
              "      <th>Column12</th>\n",
              "      <th>Column13</th>\n",
              "      <th>Column14</th>\n",
              "      <th>Column15</th>\n",
              "      <th>Column16</th>\n",
              "      <th>Column17</th>\n",
              "      <th>Column18</th>\n",
              "      <th>Column19</th>\n",
              "      <th>Column20</th>\n",
              "      <th>Column21</th>\n",
              "      <th>Column22</th>\n",
              "      <th>Column23</th>\n",
              "      <th>Column24</th>\n",
              "      <th>Column25</th>\n",
              "      <th>Column26</th>\n",
              "      <th>Column27</th>\n",
              "      <th>Column28</th>\n",
              "      <th>Column29</th>\n",
              "      <th>Column30</th>\n",
              "      <th>Column31</th>\n",
              "      <th>Column32</th>\n",
              "      <th>Column33</th>\n",
              "      <th>Column34</th>\n",
              "      <th>Column35</th>\n",
              "      <th>Column36</th>\n",
              "      <th>Column37</th>\n",
              "      <th>Column38</th>\n",
              "      <th>Column39</th>\n",
              "      <th>...</th>\n",
              "      <th>Column811</th>\n",
              "      <th>Column812</th>\n",
              "      <th>Column813</th>\n",
              "      <th>Column814</th>\n",
              "      <th>Column815</th>\n",
              "      <th>Column816</th>\n",
              "      <th>Column817</th>\n",
              "      <th>Column818</th>\n",
              "      <th>Column819</th>\n",
              "      <th>Column820</th>\n",
              "      <th>Column821</th>\n",
              "      <th>Column822</th>\n",
              "      <th>Column823</th>\n",
              "      <th>Column824</th>\n",
              "      <th>Column825</th>\n",
              "      <th>Column826</th>\n",
              "      <th>Column827</th>\n",
              "      <th>Column828</th>\n",
              "      <th>Column829</th>\n",
              "      <th>Column830</th>\n",
              "      <th>Column831</th>\n",
              "      <th>Column832</th>\n",
              "      <th>Column833</th>\n",
              "      <th>Column834</th>\n",
              "      <th>Column835</th>\n",
              "      <th>Column836</th>\n",
              "      <th>Column837</th>\n",
              "      <th>Column838</th>\n",
              "      <th>Column839</th>\n",
              "      <th>Column840</th>\n",
              "      <th>Column841</th>\n",
              "      <th>Column842</th>\n",
              "      <th>Column843</th>\n",
              "      <th>Column844</th>\n",
              "      <th>Column845</th>\n",
              "      <th>Column846</th>\n",
              "      <th>Column847</th>\n",
              "      <th>Column848</th>\n",
              "      <th>Column849</th>\n",
              "      <th>Column850</th>\n",
              "    </tr>\n",
              "  </thead>\n",
              "  <tbody>\n",
              "    <tr>\n",
              "      <th>0</th>\n",
              "      <td>0.164869</td>\n",
              "      <td>0.010532</td>\n",
              "      <td>0.011854</td>\n",
              "      <td>0.011477</td>\n",
              "      <td>0.011186</td>\n",
              "      <td>0.010723</td>\n",
              "      <td>0.007781</td>\n",
              "      <td>0.003281</td>\n",
              "      <td>0.007836</td>\n",
              "      <td>0.008751</td>\n",
              "      <td>0.012667</td>\n",
              "      <td>0.014847</td>\n",
              "      <td>0.015355</td>\n",
              "      <td>0.014811</td>\n",
              "      <td>0.016711</td>\n",
              "      <td>0.01475</td>\n",
              "      <td>0.015961</td>\n",
              "      <td>0.015273</td>\n",
              "      <td>0.017341</td>\n",
              "      <td>0.010833</td>\n",
              "      <td>0.015473</td>\n",
              "      <td>0.018079</td>\n",
              "      <td>0.015602</td>\n",
              "      <td>0.017929</td>\n",
              "      <td>0.014516</td>\n",
              "      <td>0.01694</td>\n",
              "      <td>0.019523</td>\n",
              "      <td>0.016641</td>\n",
              "      <td>0.01594</td>\n",
              "      <td>0.021192</td>\n",
              "      <td>0.016716</td>\n",
              "      <td>0.019832</td>\n",
              "      <td>0.020512</td>\n",
              "      <td>0.01835</td>\n",
              "      <td>0.019752</td>\n",
              "      <td>0.017349</td>\n",
              "      <td>0.017545</td>\n",
              "      <td>0.017032</td>\n",
              "      <td>0.018222</td>\n",
              "      <td>0.016267</td>\n",
              "      <td>...</td>\n",
              "      <td>0.031589</td>\n",
              "      <td>0.031717</td>\n",
              "      <td>0.031447</td>\n",
              "      <td>0.031581</td>\n",
              "      <td>0.031534</td>\n",
              "      <td>0.031419</td>\n",
              "      <td>0.030583</td>\n",
              "      <td>0.029491</td>\n",
              "      <td>0.029499</td>\n",
              "      <td>0.028562</td>\n",
              "      <td>0.02784</td>\n",
              "      <td>0.027534</td>\n",
              "      <td>0.026948</td>\n",
              "      <td>0.026983</td>\n",
              "      <td>0.026767</td>\n",
              "      <td>0.026105</td>\n",
              "      <td>0.026277</td>\n",
              "      <td>0.026052</td>\n",
              "      <td>0.025344</td>\n",
              "      <td>0.025126</td>\n",
              "      <td>0.024816</td>\n",
              "      <td>0.024368</td>\n",
              "      <td>0.024672</td>\n",
              "      <td>0.024484</td>\n",
              "      <td>0.045736</td>\n",
              "      <td>0.024255</td>\n",
              "      <td>0.024077</td>\n",
              "      <td>0.024201</td>\n",
              "      <td>0.024306</td>\n",
              "      <td>0.024166</td>\n",
              "      <td>0.024035</td>\n",
              "      <td>0.02381</td>\n",
              "      <td>0.024046</td>\n",
              "      <td>0.023865</td>\n",
              "      <td>0.023751</td>\n",
              "      <td>0.02378</td>\n",
              "      <td>0.0237</td>\n",
              "      <td>0.023532</td>\n",
              "      <td>0.023523</td>\n",
              "      <td>0.02356</td>\n",
              "    </tr>\n",
              "  </tbody>\n",
              "</table>\n",
              "<p>1 rows × 851 columns</p>\n",
              "</div>"
            ],
            "text/plain": [
              "    dust_av   Column1   Column2  ...  Column848  Column849  Column850\n",
              "0  0.164869  0.010532  0.011854  ...   0.023532   0.023523    0.02356\n",
              "\n",
              "[1 rows x 851 columns]"
            ]
          },
          "metadata": {
            "tags": []
          },
          "execution_count": 23
        }
      ]
    },
    {
      "cell_type": "code",
      "metadata": {
        "id": "QHGKBMvY7OMf",
        "colab": {
          "base_uri": "https://localhost:8080/",
          "height": 35
        },
        "outputId": "f5c97ca0-45c0-470f-b3d0-6c78e0d94ee7"
      },
      "source": [
        "df_dust.index.name = 'gal_id'\r\n",
        "df_dust.index.name "
      ],
      "execution_count": 24,
      "outputs": [
        {
          "output_type": "execute_result",
          "data": {
            "application/vnd.google.colaboratory.intrinsic+json": {
              "type": "string"
            },
            "text/plain": [
              "'gal_id'"
            ]
          },
          "metadata": {
            "tags": []
          },
          "execution_count": 24
        }
      ]
    },
    {
      "cell_type": "code",
      "metadata": {
        "colab": {
          "base_uri": "https://localhost:8080/"
        },
        "id": "l52G9H6F7s81",
        "outputId": "e933ad8d-67c5-49f5-f5bc-81c697892375"
      },
      "source": [
        "df_dust.columns"
      ],
      "execution_count": 25,
      "outputs": [
        {
          "output_type": "execute_result",
          "data": {
            "text/plain": [
              "Index(['dust_av', 'Column1', 'Column2', 'Column3', 'Column4', 'Column5',\n",
              "       'Column6', 'Column7', 'Column8', 'Column9',\n",
              "       ...\n",
              "       'Column841', 'Column842', 'Column843', 'Column844', 'Column845',\n",
              "       'Column846', 'Column847', 'Column848', 'Column849', 'Column850'],\n",
              "      dtype='object', length=851)"
            ]
          },
          "metadata": {
            "tags": []
          },
          "execution_count": 25
        }
      ]
    },
    {
      "cell_type": "code",
      "metadata": {
        "id": "tIGpAE8Qm7ux"
      },
      "source": [
        "LearningSet = df_dust"
      ],
      "execution_count": 26,
      "outputs": []
    },
    {
      "cell_type": "code",
      "metadata": {
        "colab": {
          "base_uri": "https://localhost:8080/",
          "height": 159
        },
        "id": "ej89ZKzHoxeu",
        "outputId": "775b5333-5720-4b0f-d82a-7c57e03c9fec"
      },
      "source": [
        "LearningSet.head(1)"
      ],
      "execution_count": 27,
      "outputs": [
        {
          "output_type": "execute_result",
          "data": {
            "text/html": [
              "<div>\n",
              "<style scoped>\n",
              "    .dataframe tbody tr th:only-of-type {\n",
              "        vertical-align: middle;\n",
              "    }\n",
              "\n",
              "    .dataframe tbody tr th {\n",
              "        vertical-align: top;\n",
              "    }\n",
              "\n",
              "    .dataframe thead th {\n",
              "        text-align: right;\n",
              "    }\n",
              "</style>\n",
              "<table border=\"1\" class=\"dataframe\">\n",
              "  <thead>\n",
              "    <tr style=\"text-align: right;\">\n",
              "      <th></th>\n",
              "      <th>dust_av</th>\n",
              "      <th>Column1</th>\n",
              "      <th>Column2</th>\n",
              "      <th>Column3</th>\n",
              "      <th>Column4</th>\n",
              "      <th>Column5</th>\n",
              "      <th>Column6</th>\n",
              "      <th>Column7</th>\n",
              "      <th>Column8</th>\n",
              "      <th>Column9</th>\n",
              "      <th>Column10</th>\n",
              "      <th>Column11</th>\n",
              "      <th>Column12</th>\n",
              "      <th>Column13</th>\n",
              "      <th>Column14</th>\n",
              "      <th>Column15</th>\n",
              "      <th>Column16</th>\n",
              "      <th>Column17</th>\n",
              "      <th>Column18</th>\n",
              "      <th>Column19</th>\n",
              "      <th>Column20</th>\n",
              "      <th>Column21</th>\n",
              "      <th>Column22</th>\n",
              "      <th>Column23</th>\n",
              "      <th>Column24</th>\n",
              "      <th>Column25</th>\n",
              "      <th>Column26</th>\n",
              "      <th>Column27</th>\n",
              "      <th>Column28</th>\n",
              "      <th>Column29</th>\n",
              "      <th>Column30</th>\n",
              "      <th>Column31</th>\n",
              "      <th>Column32</th>\n",
              "      <th>Column33</th>\n",
              "      <th>Column34</th>\n",
              "      <th>Column35</th>\n",
              "      <th>Column36</th>\n",
              "      <th>Column37</th>\n",
              "      <th>Column38</th>\n",
              "      <th>Column39</th>\n",
              "      <th>...</th>\n",
              "      <th>Column811</th>\n",
              "      <th>Column812</th>\n",
              "      <th>Column813</th>\n",
              "      <th>Column814</th>\n",
              "      <th>Column815</th>\n",
              "      <th>Column816</th>\n",
              "      <th>Column817</th>\n",
              "      <th>Column818</th>\n",
              "      <th>Column819</th>\n",
              "      <th>Column820</th>\n",
              "      <th>Column821</th>\n",
              "      <th>Column822</th>\n",
              "      <th>Column823</th>\n",
              "      <th>Column824</th>\n",
              "      <th>Column825</th>\n",
              "      <th>Column826</th>\n",
              "      <th>Column827</th>\n",
              "      <th>Column828</th>\n",
              "      <th>Column829</th>\n",
              "      <th>Column830</th>\n",
              "      <th>Column831</th>\n",
              "      <th>Column832</th>\n",
              "      <th>Column833</th>\n",
              "      <th>Column834</th>\n",
              "      <th>Column835</th>\n",
              "      <th>Column836</th>\n",
              "      <th>Column837</th>\n",
              "      <th>Column838</th>\n",
              "      <th>Column839</th>\n",
              "      <th>Column840</th>\n",
              "      <th>Column841</th>\n",
              "      <th>Column842</th>\n",
              "      <th>Column843</th>\n",
              "      <th>Column844</th>\n",
              "      <th>Column845</th>\n",
              "      <th>Column846</th>\n",
              "      <th>Column847</th>\n",
              "      <th>Column848</th>\n",
              "      <th>Column849</th>\n",
              "      <th>Column850</th>\n",
              "    </tr>\n",
              "    <tr>\n",
              "      <th>gal_id</th>\n",
              "      <th></th>\n",
              "      <th></th>\n",
              "      <th></th>\n",
              "      <th></th>\n",
              "      <th></th>\n",
              "      <th></th>\n",
              "      <th></th>\n",
              "      <th></th>\n",
              "      <th></th>\n",
              "      <th></th>\n",
              "      <th></th>\n",
              "      <th></th>\n",
              "      <th></th>\n",
              "      <th></th>\n",
              "      <th></th>\n",
              "      <th></th>\n",
              "      <th></th>\n",
              "      <th></th>\n",
              "      <th></th>\n",
              "      <th></th>\n",
              "      <th></th>\n",
              "      <th></th>\n",
              "      <th></th>\n",
              "      <th></th>\n",
              "      <th></th>\n",
              "      <th></th>\n",
              "      <th></th>\n",
              "      <th></th>\n",
              "      <th></th>\n",
              "      <th></th>\n",
              "      <th></th>\n",
              "      <th></th>\n",
              "      <th></th>\n",
              "      <th></th>\n",
              "      <th></th>\n",
              "      <th></th>\n",
              "      <th></th>\n",
              "      <th></th>\n",
              "      <th></th>\n",
              "      <th></th>\n",
              "      <th></th>\n",
              "      <th></th>\n",
              "      <th></th>\n",
              "      <th></th>\n",
              "      <th></th>\n",
              "      <th></th>\n",
              "      <th></th>\n",
              "      <th></th>\n",
              "      <th></th>\n",
              "      <th></th>\n",
              "      <th></th>\n",
              "      <th></th>\n",
              "      <th></th>\n",
              "      <th></th>\n",
              "      <th></th>\n",
              "      <th></th>\n",
              "      <th></th>\n",
              "      <th></th>\n",
              "      <th></th>\n",
              "      <th></th>\n",
              "      <th></th>\n",
              "      <th></th>\n",
              "      <th></th>\n",
              "      <th></th>\n",
              "      <th></th>\n",
              "      <th></th>\n",
              "      <th></th>\n",
              "      <th></th>\n",
              "      <th></th>\n",
              "      <th></th>\n",
              "      <th></th>\n",
              "      <th></th>\n",
              "      <th></th>\n",
              "      <th></th>\n",
              "      <th></th>\n",
              "      <th></th>\n",
              "      <th></th>\n",
              "      <th></th>\n",
              "      <th></th>\n",
              "      <th></th>\n",
              "      <th></th>\n",
              "    </tr>\n",
              "  </thead>\n",
              "  <tbody>\n",
              "    <tr>\n",
              "      <th>0</th>\n",
              "      <td>0.164869</td>\n",
              "      <td>0.010532</td>\n",
              "      <td>0.011854</td>\n",
              "      <td>0.011477</td>\n",
              "      <td>0.011186</td>\n",
              "      <td>0.010723</td>\n",
              "      <td>0.007781</td>\n",
              "      <td>0.003281</td>\n",
              "      <td>0.007836</td>\n",
              "      <td>0.008751</td>\n",
              "      <td>0.012667</td>\n",
              "      <td>0.014847</td>\n",
              "      <td>0.015355</td>\n",
              "      <td>0.014811</td>\n",
              "      <td>0.016711</td>\n",
              "      <td>0.01475</td>\n",
              "      <td>0.015961</td>\n",
              "      <td>0.015273</td>\n",
              "      <td>0.017341</td>\n",
              "      <td>0.010833</td>\n",
              "      <td>0.015473</td>\n",
              "      <td>0.018079</td>\n",
              "      <td>0.015602</td>\n",
              "      <td>0.017929</td>\n",
              "      <td>0.014516</td>\n",
              "      <td>0.01694</td>\n",
              "      <td>0.019523</td>\n",
              "      <td>0.016641</td>\n",
              "      <td>0.01594</td>\n",
              "      <td>0.021192</td>\n",
              "      <td>0.016716</td>\n",
              "      <td>0.019832</td>\n",
              "      <td>0.020512</td>\n",
              "      <td>0.01835</td>\n",
              "      <td>0.019752</td>\n",
              "      <td>0.017349</td>\n",
              "      <td>0.017545</td>\n",
              "      <td>0.017032</td>\n",
              "      <td>0.018222</td>\n",
              "      <td>0.016267</td>\n",
              "      <td>...</td>\n",
              "      <td>0.031589</td>\n",
              "      <td>0.031717</td>\n",
              "      <td>0.031447</td>\n",
              "      <td>0.031581</td>\n",
              "      <td>0.031534</td>\n",
              "      <td>0.031419</td>\n",
              "      <td>0.030583</td>\n",
              "      <td>0.029491</td>\n",
              "      <td>0.029499</td>\n",
              "      <td>0.028562</td>\n",
              "      <td>0.02784</td>\n",
              "      <td>0.027534</td>\n",
              "      <td>0.026948</td>\n",
              "      <td>0.026983</td>\n",
              "      <td>0.026767</td>\n",
              "      <td>0.026105</td>\n",
              "      <td>0.026277</td>\n",
              "      <td>0.026052</td>\n",
              "      <td>0.025344</td>\n",
              "      <td>0.025126</td>\n",
              "      <td>0.024816</td>\n",
              "      <td>0.024368</td>\n",
              "      <td>0.024672</td>\n",
              "      <td>0.024484</td>\n",
              "      <td>0.045736</td>\n",
              "      <td>0.024255</td>\n",
              "      <td>0.024077</td>\n",
              "      <td>0.024201</td>\n",
              "      <td>0.024306</td>\n",
              "      <td>0.024166</td>\n",
              "      <td>0.024035</td>\n",
              "      <td>0.02381</td>\n",
              "      <td>0.024046</td>\n",
              "      <td>0.023865</td>\n",
              "      <td>0.023751</td>\n",
              "      <td>0.02378</td>\n",
              "      <td>0.0237</td>\n",
              "      <td>0.023532</td>\n",
              "      <td>0.023523</td>\n",
              "      <td>0.02356</td>\n",
              "    </tr>\n",
              "  </tbody>\n",
              "</table>\n",
              "<p>1 rows × 851 columns</p>\n",
              "</div>"
            ],
            "text/plain": [
              "         dust_av   Column1   Column2  ...  Column848  Column849  Column850\n",
              "gal_id                                ...                                 \n",
              "0       0.164869  0.010532  0.011854  ...   0.023532   0.023523    0.02356\n",
              "\n",
              "[1 rows x 851 columns]"
            ]
          },
          "metadata": {
            "tags": []
          },
          "execution_count": 27
        }
      ]
    },
    {
      "cell_type": "code",
      "metadata": {
        "id": "Lv-q2fcehEsR"
      },
      "source": [
        "#LearningSet = LearningSet.drop(LearningSet.columns[0], axis=1) #We want to drop the first column of the file"
      ],
      "execution_count": 28,
      "outputs": []
    },
    {
      "cell_type": "code",
      "metadata": {
        "id": "ClyeSAzcFE9Z"
      },
      "source": [
        "from sklearn import metrics\r\n",
        "from sklearn.metrics import r2_score as r2\r\n",
        "from sklearn.linear_model import LinearRegression\r\n",
        "from sklearn.model_selection import cross_validate, KFold,cross_val_score, cross_val_predict, GridSearchCV\r\n",
        "from sklearn.model_selection import train_test_split \r\n",
        "from sklearn import neighbors\r\n",
        "from sklearn.neighbors import KNeighborsRegressor\r\n",
        "from sklearn.preprocessing import StandardScaler as sc , RobustScaler as rb"
      ],
      "execution_count": 29,
      "outputs": []
    },
    {
      "cell_type": "code",
      "metadata": {
        "id": "tnodasDJOUTx"
      },
      "source": [
        "X = df_dust.iloc[:,1:]\r\n",
        "Y = df_dust.iloc[:, :1] \r\n",
        "#Xtrain, Xtest, Ytrain, Ytest = train_test_split(X, Y, random_state=4)\r\n",
        "#Xtrain, Xtest, Ytrain, Ytest = train_test_split(X, Y,test_size=0.2, random_state=5) \r\n",
        "Xtrain, Xtest, Ytrain, Ytest = train_test_split(X, Y,test_size=0.2) \r\n",
        "# Xtrain = sc.fit_transform(X= Xtrain)\r\n",
        "# Xtest = sc.transform(X= Xtest)"
      ],
      "execution_count": 30,
      "outputs": []
    },
    {
      "cell_type": "code",
      "metadata": {
        "id": "eJPvLdI98a9O"
      },
      "source": [
        "predictions = []"
      ],
      "execution_count": 31,
      "outputs": []
    },
    {
      "cell_type": "code",
      "metadata": {
        "id": "Dzpz_n_fLctl"
      },
      "source": [
        "model = KNeighborsRegressor(n_neighbors=5)"
      ],
      "execution_count": 32,
      "outputs": []
    },
    {
      "cell_type": "code",
      "metadata": {
        "colab": {
          "base_uri": "https://localhost:8080/"
        },
        "id": "Kx_AmCYINYl8",
        "outputId": "7e279ae3-2a48-44b4-a058-c2275efd8fbb"
      },
      "source": [
        "model"
      ],
      "execution_count": 33,
      "outputs": [
        {
          "output_type": "execute_result",
          "data": {
            "text/plain": [
              "KNeighborsRegressor(algorithm='auto', leaf_size=30, metric='minkowski',\n",
              "                    metric_params=None, n_jobs=None, n_neighbors=5, p=2,\n",
              "                    weights='uniform')"
            ]
          },
          "metadata": {
            "tags": []
          },
          "execution_count": 33
        }
      ]
    },
    {
      "cell_type": "code",
      "metadata": {
        "colab": {
          "base_uri": "https://localhost:8080/"
        },
        "id": "TMV9xA5Mx_zZ",
        "outputId": "0a537124-a1fe-4ca6-d8a7-292fe76a6d51"
      },
      "source": [
        "Xtrain.shape"
      ],
      "execution_count": 34,
      "outputs": [
        {
          "output_type": "execute_result",
          "data": {
            "text/plain": [
              "(800, 850)"
            ]
          },
          "metadata": {
            "tags": []
          },
          "execution_count": 34
        }
      ]
    },
    {
      "cell_type": "code",
      "metadata": {
        "colab": {
          "base_uri": "https://localhost:8080/"
        },
        "id": "n-C5Bc_U1nTm",
        "outputId": "3237e369-11ee-4c01-fefc-b9d99c828958"
      },
      "source": [
        "print(Xtrain.iloc[:5,0:])"
      ],
      "execution_count": 35,
      "outputs": [
        {
          "output_type": "stream",
          "text": [
            "         Column1   Column2   Column3  ...  Column848  Column849  Column850\n",
            "gal_id                                ...                                 \n",
            "291     0.048876  0.054152  0.053403  ...   0.049530   0.049605   0.049686\n",
            "858     0.467607  0.515790  0.515666  ...   2.045460   2.065410   2.091740\n",
            "888     0.039335  0.042977  0.042930  ...   0.015381   0.015461   0.015494\n",
            "163     0.332548  0.363772  0.362521  ...   0.156016   0.156296   0.156404\n",
            "742     0.000003  0.000003  0.000003  ...   0.008597   0.008397   0.008427\n",
            "\n",
            "[5 rows x 850 columns]\n"
          ],
          "name": "stdout"
        }
      ]
    },
    {
      "cell_type": "code",
      "metadata": {
        "colab": {
          "base_uri": "https://localhost:8080/"
        },
        "id": "3D0Pj8TNiUhU",
        "outputId": "cb7e2393-6710-4de9-9a8a-7f826c0c092e"
      },
      "source": [
        "Ytrain.shape"
      ],
      "execution_count": 36,
      "outputs": [
        {
          "output_type": "execute_result",
          "data": {
            "text/plain": [
              "(800, 1)"
            ]
          },
          "metadata": {
            "tags": []
          },
          "execution_count": 36
        }
      ]
    },
    {
      "cell_type": "code",
      "metadata": {
        "colab": {
          "base_uri": "https://localhost:8080/"
        },
        "id": "nQKwIewp8U6S",
        "outputId": "d44f258a-754d-4a35-9796-c1d0f8251095"
      },
      "source": [
        "print(Ytrain.iloc[:5,:1])"
      ],
      "execution_count": 37,
      "outputs": [
        {
          "output_type": "stream",
          "text": [
            "         dust_av\n",
            "gal_id          \n",
            "291     0.120154\n",
            "858     0.552416\n",
            "888     0.074435\n",
            "163     0.063155\n",
            "742     0.001000\n"
          ],
          "name": "stdout"
        }
      ]
    },
    {
      "cell_type": "code",
      "metadata": {
        "id": "pPllJmcUMgez"
      },
      "source": [
        "scores = cross_val_score(model, X = Xtrain, y = Ytrain, cv=5)\r\n",
        "#could not use Xtrain and Ytrain as parameters, had to use the cross_val_score built in param names X and y\r\n",
        "#removed the scoring parameter so that it defaluted to R2, unable to use accuracy as a scoring method as discused in class"
      ],
      "execution_count": 38,
      "outputs": []
    },
    {
      "cell_type": "code",
      "metadata": {
        "id": "_2V7GQN09AL8"
      },
      "source": [
        "cross_val_score?"
      ],
      "execution_count": 39,
      "outputs": []
    },
    {
      "cell_type": "code",
      "metadata": {
        "colab": {
          "base_uri": "https://localhost:8080/"
        },
        "id": "4Jy8pej_iqtf",
        "outputId": "c002771f-3943-441f-82cb-e4b360286d4a"
      },
      "source": [
        "scores\r\n",
        "#scores at random_state = 4 are array([0.66491124, 0.59952558, 0.74219485, 0.66313659, 0.52453145])\r\n",
        "#scores at test_size= 0.2 and random_state = 5 are array([0.64348629, 0.76861964, 0.64540519, 0.64817706, 0.78061009])"
      ],
      "execution_count": 40,
      "outputs": [
        {
          "output_type": "execute_result",
          "data": {
            "text/plain": [
              "array([0.61148116, 0.75448118, 0.66344534, 0.73316547, 0.68634069])"
            ]
          },
          "metadata": {
            "tags": []
          },
          "execution_count": 40
        }
      ]
    },
    {
      "cell_type": "code",
      "metadata": {
        "colab": {
          "base_uri": "https://localhost:8080/"
        },
        "id": "yjO5KCNoXkly",
        "outputId": "d5a384bb-200a-4921-cadd-7b282f3bdd5a"
      },
      "source": [
        "\r\n",
        "model.fit(Xtrain,Ytrain)"
      ],
      "execution_count": 41,
      "outputs": [
        {
          "output_type": "execute_result",
          "data": {
            "text/plain": [
              "KNeighborsRegressor(algorithm='auto', leaf_size=30, metric='minkowski',\n",
              "                    metric_params=None, n_jobs=None, n_neighbors=5, p=2,\n",
              "                    weights='uniform')"
            ]
          },
          "metadata": {
            "tags": []
          },
          "execution_count": 41
        }
      ]
    },
    {
      "cell_type": "code",
      "metadata": {
        "id": "O9p-ehyscuGI"
      },
      "source": [
        "ypred_dust = model.predict(Xtest)\r\n",
        "predictions.append(ypred_dust)"
      ],
      "execution_count": 42,
      "outputs": []
    },
    {
      "cell_type": "code",
      "metadata": {
        "colab": {
          "base_uri": "https://localhost:8080/"
        },
        "id": "kjRno_f6gbIu",
        "outputId": "e3b9d7ec-8af3-43b8-9e93-9b2786848dcb"
      },
      "source": [
        "ypred_dust.shape"
      ],
      "execution_count": 43,
      "outputs": [
        {
          "output_type": "execute_result",
          "data": {
            "text/plain": [
              "(200, 1)"
            ]
          },
          "metadata": {
            "tags": []
          },
          "execution_count": 43
        }
      ]
    },
    {
      "cell_type": "code",
      "metadata": {
        "colab": {
          "base_uri": "https://localhost:8080/"
        },
        "id": "tmuZyovu522w",
        "outputId": "72e49deb-5db0-4540-903b-82cb655b2317"
      },
      "source": [
        "r2(Ytest, ypred_dust)"
      ],
      "execution_count": 44,
      "outputs": [
        {
          "output_type": "execute_result",
          "data": {
            "text/plain": [
              "0.7380942883128163"
            ]
          },
          "metadata": {
            "tags": []
          },
          "execution_count": 44
        }
      ]
    },
    {
      "cell_type": "code",
      "metadata": {
        "colab": {
          "base_uri": "https://localhost:8080/",
          "height": 305
        },
        "id": "SqPpe8P782vJ",
        "outputId": "96e3b803-3c8a-4a5d-9f72-5c54d5b55923"
      },
      "source": [
        "plt.scatter(ypred_dust,Ytest, s = 20, c = 'royalblue')\r\n",
        "plt.xlabel('True Dust_av' , fontsize=14)\r\n",
        "plt.ylabel('Predicted Dust_av',fontsize=14)\r\n",
        "plt.axis('square')\r\n",
        "plt.xlim(0,1)\r\n",
        "plt.ylim(0,1)"
      ],
      "execution_count": 46,
      "outputs": [
        {
          "output_type": "execute_result",
          "data": {
            "text/plain": [
              "(0.0, 1.0)"
            ]
          },
          "metadata": {
            "tags": []
          },
          "execution_count": 46
        },
        {
          "output_type": "display_data",
          "data": {
            "image/png": "[encoded data removed]",
            "text/plain": [
              "<Figure size 432x288 with 1 Axes>"
            ]
          },
          "metadata": {
            "tags": [],
            "needs_background": "light"
          }
        }
      ]
    },
    {
      "cell_type": "code",
      "metadata": {
        "id": "TROWWk49YLv2"
      },
      "source": [
        "# sklearn.metrics.accuracy_score(Ytest,ypred)\r\n",
        "#can not test for accuracy between testa and predictions since the target is not binary "
      ],
      "execution_count": null,
      "outputs": []
    },
    {
      "cell_type": "code",
      "metadata": {
        "id": "9DCObUbpYdcf"
      },
      "source": [
        "distances = model.kneighbors(Xtest, return_distance=True)[0][:5]\r\n",
        "distances.shape"
      ],
      "execution_count": null,
      "outputs": []
    },
    {
      "cell_type": "code",
      "metadata": {
        "id": "p6mZkBcFs6Up"
      },
      "source": [
        "print(distances)"
      ],
      "execution_count": null,
      "outputs": []
    },
    {
      "cell_type": "code",
      "metadata": {
        "id": "nssAkwjREUS5"
      },
      "source": [
        "#rescaling using robust scaler "
      ],
      "execution_count": null,
      "outputs": []
    },
    {
      "cell_type": "code",
      "metadata": {
        "id": "cfWJgV_KtXLv"
      },
      "source": [
        "rb(Xtrain)"
      ],
      "execution_count": null,
      "outputs": []
    },
    {
      "cell_type": "code",
      "metadata": {
        "id": "vI2YLgactXul"
      },
      "source": [
        "robtrain = rb.transform(Xtrain)"
      ],
      "execution_count": null,
      "outputs": []
    },
    {
      "cell_type": "code",
      "metadata": {
        "id": "j49grasS0sxu"
      },
      "source": [
        "predictions = []\r\n",
        "predictions.append(ypred_dust,ypred_masss,ypred_age, ypred_tau)\r\n",
        "from itertools import permutations as perm\r\n",
        "perm(predictions)\r\n",
        "\r\n",
        "def scafold(perm):\r\n",
        "  for i in perm:\r\n",
        "    for j in i:\r\n",
        "      df1.concate(j[1:1], spectra)\r\n",
        "      x1 = df1.iloc[:,1:]\r\n",
        "      y1 = df1.iloc[:,:1]\r\n",
        "      df2.concate(j[1:2], spectra)\r\n",
        "      x2 = df2.iloc[:,1:]\r\n",
        "      y2 = df2.iloc[:,:1]\r\n",
        "      df3.concate(j[1:3], spectra)\r\n",
        "      x3 = df3.iloc[:,1:]\r\n",
        "      y3 = df3.iloc[:,:1]\r\n",
        "      ys = [].append(y*)\r\n",
        "      xs = [].append(y*)\r\n",
        "      return xs, ys\r\n",
        "\r\n",
        "def scores(xs, ys):\r\n",
        "  for i in xs:\r\n",
        "    for j in ys:\r\n",
        "      Xtrain, Xtest, Ytrain, Ytest = train_test_split(xs[i], ys[i],test_size=0.2) \r\n",
        "      scores = cross_val_score(model, X = Xtrain, y = Ytrain, cv=5)\r\n",
        "      return scores"
      ],
      "execution_count": null,
      "outputs": []
    }
  ]
}