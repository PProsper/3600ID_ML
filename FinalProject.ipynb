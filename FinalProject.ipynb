{
  "nbformat": 4,
  "nbformat_minor": 0,
  "metadata": {
    "colab": {
      "name": "FinalProject.ipynb",
      "provenance": [],
      "collapsed_sections": [],
      "toc_visible": true,
      "include_colab_link": true
    },
    "kernelspec": {
      "name": "python3",
      "display_name": "Python 3"
    }
  },
  "cells": [
    {
      "cell_type": "markdown",
      "metadata": {
        "id": "view-in-github",
        "colab_type": "text"
      },
      "source": [
        "<a href=\"https://colab.research.google.com/github/PProsper/3600ID_ML/blob/master/FinalProject.ipynb\" target=\"_parent\"><img src=\"https://colab.research.google.com/assets/colab-badge.svg\" alt=\"Open In Colab\"/></a>"
      ]
    },
    {
      "cell_type": "markdown",
      "metadata": {
        "id": "a7mnOsmq2_NC"
      },
      "source": [
        "### Galaxy Target Feature/Spectra Analysis with KNN\r\n",
        "\r\n",
        "In this notebook the target features of steller mass, cosmic dust average, galaxy age, and tau are both predicted from wavelength spectra. The predictions are then scaled using Robust scaler. Finally in a n effort to improve cross validation and R2 scores, the predicted target features are added to the spectra dataframe to predict for the next target features. \r\n",
        "\r\n",
        "\r\n",
        "\r\n",
        "##Author: Patrice Prosper\r\n",
        "####Contributors: Jesenia Fuentes, Ognila Biswas\r\n",
        "####Peer Leader:Jerry Muzisk \r\n",
        "####Mentors: Dr. Vivian Acquaviva, Henry Best\r\n"
      ]
    },
    {
      "cell_type": "code",
      "metadata": {
        "id": "rwjnD_RZbh2d"
      },
      "source": [
        "import pandas as pd\n",
        "import numpy as np\n",
        "import matplotlib\n",
        "import matplotlib.pyplot as plt\n",
        "from sklearn import metrics \n",
        "%matplotlib inline\n",
        "from sklearn import linear_model\n",
        "from numpy import linalg as la\n",
        "from sklearn.preprocessing import PolynomialFeatures"
      ],
      "execution_count": null,
      "outputs": []
    },
    {
      "cell_type": "code",
      "metadata": {
        "id": "FfhSm_QnjEEc"
      },
      "source": [
        "from google.colab import files"
      ],
      "execution_count": null,
      "outputs": []
    },
    {
      "cell_type": "markdown",
      "metadata": {
        "id": "XiiYUxrW6JNl"
      },
      "source": [
        "##First we pull in the data"
      ]
    },
    {
      "cell_type": "code",
      "metadata": {
        "id": "lhRlfSo8cpzV"
      },
      "source": [
        "props = pd.read_csv('GalaxyProperties.csv', sep = ',')\n",
        "spectra = pd.read_csv('spectra.csv', sep = ',')\n",
        "specs = pd.read_excel('spectra.xlsx')\n",
        "wave = pd.read_csv('wavelengths.csv', sep = ',', header= None)"
      ],
      "execution_count": null,
      "outputs": []
    },
    {
      "cell_type": "code",
      "metadata": {
        "colab": {
          "base_uri": "https://localhost:8080/"
        },
        "id": "gS6IcNWgqyPv",
        "outputId": "bfda2c92-2a3b-4938-8c20-6a39d1395172"
      },
      "source": [
        "props.shape"
      ],
      "execution_count": null,
      "outputs": [
        {
          "output_type": "execute_result",
          "data": {
            "text/plain": [
              "(1000, 5)"
            ]
          },
          "metadata": {
            "tags": []
          },
          "execution_count": 398
        }
      ]
    },
    {
      "cell_type": "code",
      "metadata": {
        "colab": {
          "base_uri": "https://localhost:8080/",
          "height": 79
        },
        "id": "rNe8qLpKmFZ_",
        "outputId": "80388ce6-4ab7-4a83-85f1-cd9d08e6a887"
      },
      "source": [
        "props.head(1)"
      ],
      "execution_count": null,
      "outputs": [
        {
          "output_type": "execute_result",
          "data": {
            "text/html": [
              "<div>\n",
              "<style scoped>\n",
              "    .dataframe tbody tr th:only-of-type {\n",
              "        vertical-align: middle;\n",
              "    }\n",
              "\n",
              "    .dataframe tbody tr th {\n",
              "        vertical-align: top;\n",
              "    }\n",
              "\n",
              "    .dataframe thead th {\n",
              "        text-align: right;\n",
              "    }\n",
              "</style>\n",
              "<table border=\"1\" class=\"dataframe\">\n",
              "  <thead>\n",
              "    <tr style=\"text-align: right;\">\n",
              "      <th></th>\n",
              "      <th>Unnamed: 0</th>\n",
              "      <th>dust_av</th>\n",
              "      <th>age</th>\n",
              "      <th>mass</th>\n",
              "      <th>tauGyr</th>\n",
              "    </tr>\n",
              "  </thead>\n",
              "  <tbody>\n",
              "    <tr>\n",
              "      <th>0</th>\n",
              "      <td>0</td>\n",
              "      <td>0.164869</td>\n",
              "      <td>0.203291</td>\n",
              "      <td>7.885367</td>\n",
              "      <td>0.033035</td>\n",
              "    </tr>\n",
              "  </tbody>\n",
              "</table>\n",
              "</div>"
            ],
            "text/plain": [
              "   Unnamed: 0   dust_av       age      mass    tauGyr\n",
              "0           0  0.164869  0.203291  7.885367  0.033035"
            ]
          },
          "metadata": {
            "tags": []
          },
          "execution_count": 399
        }
      ]
    },
    {
      "cell_type": "code",
      "metadata": {
        "colab": {
          "base_uri": "https://localhost:8080/"
        },
        "id": "K0siswclvmEe",
        "outputId": "9813a024-357d-4c52-999b-e63a74458c77"
      },
      "source": [
        "spectra.shape"
      ],
      "execution_count": null,
      "outputs": [
        {
          "output_type": "execute_result",
          "data": {
            "text/plain": [
              "(1000, 1)"
            ]
          },
          "metadata": {
            "tags": []
          },
          "execution_count": 400
        }
      ]
    },
    {
      "cell_type": "code",
      "metadata": {
        "colab": {
          "base_uri": "https://localhost:8080/"
        },
        "id": "1kJ6xkMOrT6R",
        "outputId": "cd3966ac-d609-496b-d260-66f42d9a45e0"
      },
      "source": [
        "spectra.info()"
      ],
      "execution_count": null,
      "outputs": [
        {
          "output_type": "stream",
          "text": [
            "<class 'pandas.core.frame.DataFrame'>\n",
            "RangeIndex: 1000 entries, 0 to 999\n",
            "Data columns (total 1 columns):\n",
            " #   Column  Non-Null Count  Dtype \n",
            "---  ------  --------------  ----- \n",
            " 0   head    1000 non-null   object\n",
            "dtypes: object(1)\n",
            "memory usage: 7.9+ KB\n"
          ],
          "name": "stdout"
        }
      ]
    },
    {
      "cell_type": "code",
      "metadata": {
        "colab": {
          "base_uri": "https://localhost:8080/"
        },
        "id": "HAc8JCnMGDHk",
        "outputId": "115868ed-584e-4549-c104-21fb703ae264"
      },
      "source": [
        "specs.shape"
      ],
      "execution_count": null,
      "outputs": [
        {
          "output_type": "execute_result",
          "data": {
            "text/plain": [
              "(1000, 850)"
            ]
          },
          "metadata": {
            "tags": []
          },
          "execution_count": 402
        }
      ]
    },
    {
      "cell_type": "code",
      "metadata": {
        "colab": {
          "base_uri": "https://localhost:8080/"
        },
        "id": "0zeColo1P3qj",
        "outputId": "e499ced5-1105-481f-ccc2-128de35d417e"
      },
      "source": [
        "specs.loc[0:1].values"
      ],
      "execution_count": null,
      "outputs": [
        {
          "output_type": "execute_result",
          "data": {
            "text/plain": [
              "array([[0.010532 , 0.0118543, 0.0114774, ..., 0.0235315, 0.0235232,\n",
              "        0.0235604],\n",
              "       [0.0122055, 0.0134793, 0.0133496, ..., 0.0439096, 0.0435937,\n",
              "        0.0437942]])"
            ]
          },
          "metadata": {
            "tags": []
          },
          "execution_count": 403
        }
      ]
    },
    {
      "cell_type": "code",
      "metadata": {
        "colab": {
          "base_uri": "https://localhost:8080/"
        },
        "id": "9XF1rsmWF_z2",
        "outputId": "dcb7788c-8253-40e5-aa44-c46c5685ccdc"
      },
      "source": [
        "wave.shape"
      ],
      "execution_count": null,
      "outputs": [
        {
          "output_type": "execute_result",
          "data": {
            "text/plain": [
              "(850, 1)"
            ]
          },
          "metadata": {
            "tags": []
          },
          "execution_count": 404
        }
      ]
    },
    {
      "cell_type": "markdown",
      "metadata": {
        "id": "OxjG3KR06Q2D"
      },
      "source": [
        "#####It was tricky using the spectra csv, which contained all 850 features for each sprectrum in one cell for the 1000 galaxies. So the data had to be comma seperated in excel and the excel file is used instead of the csv for the spectra points only."
      ]
    },
    {
      "cell_type": "markdown",
      "metadata": {
        "id": "e0lSlt-l6rHM"
      },
      "source": [
        "##Now the three galaxy spectra features are ploted against the wavelength stpectrum. The galaxies with minimum, maximum and median valued wavelength magnitudes are used for the plot."
      ]
    },
    {
      "cell_type": "code",
      "metadata": {
        "colab": {
          "base_uri": "https://localhost:8080/",
          "height": 317
        },
        "id": "0-RseNalJgxp",
        "outputId": "8f94ec84-e13b-4dac-83bc-1fecb70035fe"
      },
      "source": [
        "plt.figure()\n",
        "plt.title('Galaxy Spectra Plot')\n",
        "plt.xlabel('Wavelength Spectrum' , fontsize=14)\n",
        "plt.ylabel('850 Spectra points',fontsize=14)\n",
        "x = wave.values\n",
        "y = specs.loc[500,:].values\n",
        "plt.plot(x, y)\n",
        "y2 = specs.loc[998,:].values\n",
        "plt.plot(x, y2)\n",
        "y3 = specs.loc[0,:].values\n",
        "plt.plot(x, y3)"
      ],
      "execution_count": null,
      "outputs": [
        {
          "output_type": "execute_result",
          "data": {
            "text/plain": [
              "[<matplotlib.lines.Line2D at 0x7fcdabe40860>]"
            ]
          },
          "metadata": {
            "tags": []
          },
          "execution_count": 406
        },
        {
          "output_type": "display_data",
          "data": {
            "image/png": "[encoded data removed]",
            "text/plain": [
              "<Figure size 432x288 with 1 Axes>"
            ]
          },
          "metadata": {
            "tags": [],
            "needs_background": "light"
          }
        }
      ]
    },
    {
      "cell_type": "code",
      "metadata": {
        "id": "oZfBGsj9H6xz"
      },
      "source": [
        "mass = props['mass']\r\n",
        "dust_avs = props['dust_av']\r\n",
        "age = props['age']\r\n",
        "tau = props['tauGyr']"
      ],
      "execution_count": null,
      "outputs": []
    },
    {
      "cell_type": "markdown",
      "metadata": {
        "id": "i7XmH6Jx8H7G"
      },
      "source": [
        "##Each target feature column form the properties csv is concated with the excel columns of the spectra features to create 4 different dataframes."
      ]
    },
    {
      "cell_type": "code",
      "metadata": {
        "id": "wId3CCyu3mzt"
      },
      "source": [
        "df_mass = pd.concat([mass,specs], axis=1, sort =False) \r\n",
        "df_dust = pd.concat([dust_avs,specs], axis=1, sort =False) \r\n",
        "df_age = pd.concat([age,specs], axis=1, sort =False) \r\n",
        "df_tau = pd.concat([tau,specs], axis=1, sort =False) \r\n",
        "#used specs which is the excel comma seperated version of the spectra csv\r\n",
        "#the cross val function was considering each row of the single column in the spectra csv as a string rather than 850 seperate floats"
      ],
      "execution_count": null,
      "outputs": []
    },
    {
      "cell_type": "code",
      "metadata": {
        "colab": {
          "base_uri": "https://localhost:8080/",
          "height": 129
        },
        "id": "MQFAk8XbGarU",
        "outputId": "f9ef7048-4407-4d71-a018-0fe741ee9859"
      },
      "source": [
        "df_mass.head(1)"
      ],
      "execution_count": null,
      "outputs": [
        {
          "output_type": "execute_result",
          "data": {
            "text/html": [
              "<div>\n",
              "<style scoped>\n",
              "    .dataframe tbody tr th:only-of-type {\n",
              "        vertical-align: middle;\n",
              "    }\n",
              "\n",
              "    .dataframe tbody tr th {\n",
              "        vertical-align: top;\n",
              "    }\n",
              "\n",
              "    .dataframe thead th {\n",
              "        text-align: right;\n",
              "    }\n",
              "</style>\n",
              "<table border=\"1\" class=\"dataframe\">\n",
              "  <thead>\n",
              "    <tr style=\"text-align: right;\">\n",
              "      <th></th>\n",
              "      <th>mass</th>\n",
              "      <th>Column1</th>\n",
              "      <th>Column2</th>\n",
              "      <th>Column3</th>\n",
              "      <th>Column4</th>\n",
              "      <th>Column5</th>\n",
              "      <th>Column6</th>\n",
              "      <th>Column7</th>\n",
              "      <th>Column8</th>\n",
              "      <th>Column9</th>\n",
              "      <th>Column10</th>\n",
              "      <th>Column11</th>\n",
              "      <th>Column12</th>\n",
              "      <th>Column13</th>\n",
              "      <th>Column14</th>\n",
              "      <th>Column15</th>\n",
              "      <th>Column16</th>\n",
              "      <th>Column17</th>\n",
              "      <th>Column18</th>\n",
              "      <th>Column19</th>\n",
              "      <th>Column20</th>\n",
              "      <th>Column21</th>\n",
              "      <th>Column22</th>\n",
              "      <th>Column23</th>\n",
              "      <th>Column24</th>\n",
              "      <th>Column25</th>\n",
              "      <th>Column26</th>\n",
              "      <th>Column27</th>\n",
              "      <th>Column28</th>\n",
              "      <th>Column29</th>\n",
              "      <th>Column30</th>\n",
              "      <th>Column31</th>\n",
              "      <th>Column32</th>\n",
              "      <th>Column33</th>\n",
              "      <th>Column34</th>\n",
              "      <th>Column35</th>\n",
              "      <th>Column36</th>\n",
              "      <th>Column37</th>\n",
              "      <th>Column38</th>\n",
              "      <th>Column39</th>\n",
              "      <th>...</th>\n",
              "      <th>Column811</th>\n",
              "      <th>Column812</th>\n",
              "      <th>Column813</th>\n",
              "      <th>Column814</th>\n",
              "      <th>Column815</th>\n",
              "      <th>Column816</th>\n",
              "      <th>Column817</th>\n",
              "      <th>Column818</th>\n",
              "      <th>Column819</th>\n",
              "      <th>Column820</th>\n",
              "      <th>Column821</th>\n",
              "      <th>Column822</th>\n",
              "      <th>Column823</th>\n",
              "      <th>Column824</th>\n",
              "      <th>Column825</th>\n",
              "      <th>Column826</th>\n",
              "      <th>Column827</th>\n",
              "      <th>Column828</th>\n",
              "      <th>Column829</th>\n",
              "      <th>Column830</th>\n",
              "      <th>Column831</th>\n",
              "      <th>Column832</th>\n",
              "      <th>Column833</th>\n",
              "      <th>Column834</th>\n",
              "      <th>Column835</th>\n",
              "      <th>Column836</th>\n",
              "      <th>Column837</th>\n",
              "      <th>Column838</th>\n",
              "      <th>Column839</th>\n",
              "      <th>Column840</th>\n",
              "      <th>Column841</th>\n",
              "      <th>Column842</th>\n",
              "      <th>Column843</th>\n",
              "      <th>Column844</th>\n",
              "      <th>Column845</th>\n",
              "      <th>Column846</th>\n",
              "      <th>Column847</th>\n",
              "      <th>Column848</th>\n",
              "      <th>Column849</th>\n",
              "      <th>Column850</th>\n",
              "    </tr>\n",
              "  </thead>\n",
              "  <tbody>\n",
              "    <tr>\n",
              "      <th>0</th>\n",
              "      <td>7.885367</td>\n",
              "      <td>0.010532</td>\n",
              "      <td>0.011854</td>\n",
              "      <td>0.011477</td>\n",
              "      <td>0.011186</td>\n",
              "      <td>0.010723</td>\n",
              "      <td>0.007781</td>\n",
              "      <td>0.003281</td>\n",
              "      <td>0.007836</td>\n",
              "      <td>0.008751</td>\n",
              "      <td>0.012667</td>\n",
              "      <td>0.014847</td>\n",
              "      <td>0.015355</td>\n",
              "      <td>0.014811</td>\n",
              "      <td>0.016711</td>\n",
              "      <td>0.01475</td>\n",
              "      <td>0.015961</td>\n",
              "      <td>0.015273</td>\n",
              "      <td>0.017341</td>\n",
              "      <td>0.010833</td>\n",
              "      <td>0.015473</td>\n",
              "      <td>0.018079</td>\n",
              "      <td>0.015602</td>\n",
              "      <td>0.017929</td>\n",
              "      <td>0.014516</td>\n",
              "      <td>0.01694</td>\n",
              "      <td>0.019523</td>\n",
              "      <td>0.016641</td>\n",
              "      <td>0.01594</td>\n",
              "      <td>0.021192</td>\n",
              "      <td>0.016716</td>\n",
              "      <td>0.019832</td>\n",
              "      <td>0.020512</td>\n",
              "      <td>0.01835</td>\n",
              "      <td>0.019752</td>\n",
              "      <td>0.017349</td>\n",
              "      <td>0.017545</td>\n",
              "      <td>0.017032</td>\n",
              "      <td>0.018222</td>\n",
              "      <td>0.016267</td>\n",
              "      <td>...</td>\n",
              "      <td>0.031589</td>\n",
              "      <td>0.031717</td>\n",
              "      <td>0.031447</td>\n",
              "      <td>0.031581</td>\n",
              "      <td>0.031534</td>\n",
              "      <td>0.031419</td>\n",
              "      <td>0.030583</td>\n",
              "      <td>0.029491</td>\n",
              "      <td>0.029499</td>\n",
              "      <td>0.028562</td>\n",
              "      <td>0.02784</td>\n",
              "      <td>0.027534</td>\n",
              "      <td>0.026948</td>\n",
              "      <td>0.026983</td>\n",
              "      <td>0.026767</td>\n",
              "      <td>0.026105</td>\n",
              "      <td>0.026277</td>\n",
              "      <td>0.026052</td>\n",
              "      <td>0.025344</td>\n",
              "      <td>0.025126</td>\n",
              "      <td>0.024816</td>\n",
              "      <td>0.024368</td>\n",
              "      <td>0.024672</td>\n",
              "      <td>0.024484</td>\n",
              "      <td>0.045736</td>\n",
              "      <td>0.024255</td>\n",
              "      <td>0.024077</td>\n",
              "      <td>0.024201</td>\n",
              "      <td>0.024306</td>\n",
              "      <td>0.024166</td>\n",
              "      <td>0.024035</td>\n",
              "      <td>0.02381</td>\n",
              "      <td>0.024046</td>\n",
              "      <td>0.023865</td>\n",
              "      <td>0.023751</td>\n",
              "      <td>0.02378</td>\n",
              "      <td>0.0237</td>\n",
              "      <td>0.023532</td>\n",
              "      <td>0.023523</td>\n",
              "      <td>0.02356</td>\n",
              "    </tr>\n",
              "  </tbody>\n",
              "</table>\n",
              "<p>1 rows × 851 columns</p>\n",
              "</div>"
            ],
            "text/plain": [
              "       mass   Column1   Column2  ...  Column848  Column849  Column850\n",
              "0  7.885367  0.010532  0.011854  ...   0.023532   0.023523    0.02356\n",
              "\n",
              "[1 rows x 851 columns]"
            ]
          },
          "metadata": {
            "tags": []
          },
          "execution_count": 410
        }
      ]
    },
    {
      "cell_type": "code",
      "metadata": {
        "id": "tIGpAE8Qm7ux"
      },
      "source": [
        "LearningSetdust = df_dust"
      ],
      "execution_count": null,
      "outputs": []
    },
    {
      "cell_type": "code",
      "metadata": {
        "id": "AqikHltTG9k4"
      },
      "source": [
        "LearningSetmass = df_mass"
      ],
      "execution_count": null,
      "outputs": []
    },
    {
      "cell_type": "code",
      "metadata": {
        "id": "2-l5oqtUHBBB"
      },
      "source": [
        "LearningSetage = df_age"
      ],
      "execution_count": null,
      "outputs": []
    },
    {
      "cell_type": "code",
      "metadata": {
        "id": "-HP6KouNHC30"
      },
      "source": [
        "LearningSettau = df_tau"
      ],
      "execution_count": null,
      "outputs": []
    },
    {
      "cell_type": "markdown",
      "metadata": {
        "id": "c_rLLbwE8hAc"
      },
      "source": [
        "##Time to build a model and train our machine to predict each target feature "
      ]
    },
    {
      "cell_type": "code",
      "metadata": {
        "id": "ClyeSAzcFE9Z"
      },
      "source": [
        "import sklearn\r\n",
        "from sklearn import metrics\r\n",
        "from sklearn.metrics import r2_score as r2\r\n",
        "from sklearn.linear_model import LinearRegression\r\n",
        "from sklearn.model_selection import cross_validate, KFold,cross_val_score, cross_val_predict, GridSearchCV\r\n",
        "from sklearn.model_selection import train_test_split \r\n",
        "from sklearn import neighbors\r\n",
        "from sklearn.neighbors import KNeighborsRegressor\r\n",
        "#from sklearn.preprocessing import StandardScaler as sc , RobustScaler as rb"
      ],
      "execution_count": null,
      "outputs": []
    },
    {
      "cell_type": "code",
      "metadata": {
        "id": "tnodasDJOUTx"
      },
      "source": [
        "X1 = df_dust.iloc[:,1:]\r\n",
        "Y1 = df_dust.iloc[:, :1] \r\n",
        "X1train, X1test, Y1train, Y1test = train_test_split(X1, Y1,test_size=0.2) "
      ],
      "execution_count": null,
      "outputs": []
    },
    {
      "cell_type": "code",
      "metadata": {
        "id": "Q-gTENMJIb_1"
      },
      "source": [
        "X2 = df_mass.iloc[:,1:]\r\n",
        "Y2 = df_mass.iloc[:, :1] \r\n",
        "X2train, X2test, Y2train, Y2test = train_test_split(X2, Y2,test_size=0.2) "
      ],
      "execution_count": null,
      "outputs": []
    },
    {
      "cell_type": "code",
      "metadata": {
        "id": "tUyRq7SFIlfH"
      },
      "source": [
        "X3 = df_age.iloc[:,1:]\r\n",
        "Y3 = df_age.iloc[:, :1] \r\n",
        "X3train, X3test, Y3train, Y3test = train_test_split(X3, Y3,test_size=0.2) "
      ],
      "execution_count": null,
      "outputs": []
    },
    {
      "cell_type": "code",
      "metadata": {
        "id": "VcDLdPZrIryu"
      },
      "source": [
        "X4 = df_tau.iloc[:,1:]\r\n",
        "Y4 = df_tau.iloc[:, :1] \r\n",
        "X4train, X4test, Y4train, Y4test = train_test_split(X4, Y4,test_size=0.2) "
      ],
      "execution_count": null,
      "outputs": []
    },
    {
      "cell_type": "code",
      "metadata": {
        "id": "Dzpz_n_fLctl"
      },
      "source": [
        "model = KNeighborsRegressor(n_neighbors=5)"
      ],
      "execution_count": null,
      "outputs": []
    },
    {
      "cell_type": "code",
      "metadata": {
        "colab": {
          "base_uri": "https://localhost:8080/"
        },
        "id": "Kx_AmCYINYl8",
        "outputId": "18f5f450-ebdc-4226-dd43-c4da798cc816"
      },
      "source": [
        "model"
      ],
      "execution_count": null,
      "outputs": [
        {
          "output_type": "execute_result",
          "data": {
            "text/plain": [
              "KNeighborsRegressor(algorithm='auto', leaf_size=30, metric='minkowski',\n",
              "                    metric_params=None, n_jobs=None, n_neighbors=5, p=2,\n",
              "                    weights='uniform')"
            ]
          },
          "metadata": {
            "tags": []
          },
          "execution_count": 422
        }
      ]
    },
    {
      "cell_type": "code",
      "metadata": {
        "colab": {
          "base_uri": "https://localhost:8080/"
        },
        "id": "TMV9xA5Mx_zZ",
        "outputId": "49432937-03d2-462c-ce00-6473c6ccfa96"
      },
      "source": [
        "X1train.shape\r\n"
      ],
      "execution_count": null,
      "outputs": [
        {
          "output_type": "execute_result",
          "data": {
            "text/plain": [
              "(800, 850)"
            ]
          },
          "metadata": {
            "tags": []
          },
          "execution_count": 423
        }
      ]
    },
    {
      "cell_type": "code",
      "metadata": {
        "colab": {
          "base_uri": "https://localhost:8080/"
        },
        "id": "3D0Pj8TNiUhU",
        "outputId": "fb8f90f9-9db0-44f5-ee96-ef0a79822a0e"
      },
      "source": [
        "Y1train.shape"
      ],
      "execution_count": null,
      "outputs": [
        {
          "output_type": "execute_result",
          "data": {
            "text/plain": [
              "(800, 1)"
            ]
          },
          "metadata": {
            "tags": []
          },
          "execution_count": 424
        }
      ]
    },
    {
      "cell_type": "code",
      "metadata": {
        "colab": {
          "base_uri": "https://localhost:8080/"
        },
        "id": "n-C5Bc_U1nTm",
        "outputId": "4bf6afee-8a50-41c5-b8d5-478b30368d09"
      },
      "source": [
        "print(X1train.iloc[:5,0:])"
      ],
      "execution_count": null,
      "outputs": [
        {
          "output_type": "stream",
          "text": [
            "      Column1   Column2   Column3  ...  Column848  Column849  Column850\n",
            "512  0.031547  0.034641  0.034384  ...   0.035486   0.035164   0.035189\n",
            "532  0.200141  0.218723  0.217816  ...   0.182028   0.179826   0.179699\n",
            "299  0.021569  0.023692  0.023513  ...   0.066003   0.064889   0.065068\n",
            "622  0.004469  0.004917  0.004888  ...   0.015324   0.015170   0.015244\n",
            "886  0.134851  0.147749  0.146851  ...   0.057943   0.057680   0.057429\n",
            "\n",
            "[5 rows x 850 columns]\n"
          ],
          "name": "stdout"
        }
      ]
    },
    {
      "cell_type": "code",
      "metadata": {
        "colab": {
          "base_uri": "https://localhost:8080/"
        },
        "id": "nQKwIewp8U6S",
        "outputId": "57c9c576-4cd4-42d5-db86-64d3c919a3bd"
      },
      "source": [
        "print(Y1train.iloc[:5,:1])"
      ],
      "execution_count": null,
      "outputs": [
        {
          "output_type": "stream",
          "text": [
            "      dust_av\n",
            "512  0.041403\n",
            "532  0.001000\n",
            "299  0.053051\n",
            "622  0.195803\n",
            "886  0.001000\n"
          ],
          "name": "stdout"
        }
      ]
    },
    {
      "cell_type": "markdown",
      "metadata": {
        "id": "I8zgHwX-9NMe"
      },
      "source": [
        "##All Scores per 5fold are tested and R2 scores are assed "
      ]
    },
    {
      "cell_type": "code",
      "metadata": {
        "id": "pPllJmcUMgez"
      },
      "source": [
        "scores1 = cross_val_score(model, X = X1train, y = Y1train, cv=5)\r\n",
        "scores2 = cross_val_score(model, X = X2train, y = Y2train, cv=5)\r\n",
        "scores3 = cross_val_score(model, X = X3train, y = Y3train, cv=5)\r\n",
        "scores4 = cross_val_score(model, X = X4train, y = Y4train, cv=5)\r\n",
        "#could not use Xtrain and Ytrain as parameters, had to use the cross_val_score built in param names X and y\r\n",
        "#removed the scoring parameter so that it defaluted to R2, unable to use accuracy as a scoring method as discused in class"
      ],
      "execution_count": null,
      "outputs": []
    },
    {
      "cell_type": "code",
      "metadata": {
        "colab": {
          "base_uri": "https://localhost:8080/"
        },
        "id": "4Jy8pej_iqtf",
        "outputId": "4cc230df-d2ba-4abf-e954-bcca3b9a6c7f"
      },
      "source": [
        "print('Initial dust score', scores1)\r\n",
        "print('Initial mass score', scores2)\r\n",
        "print('Initial age score', scores3)\r\n",
        "print('Initial tau score', scores4)\r\n",
        "#scores at random_state = 4 are array([0.66491124, 0.59952558, 0.74219485, 0.66313659, 0.52453145])\r\n",
        "#scores at test_size= 0.2 and random_state = 5 are array([0.64348629, 0.76861964, 0.64540519, 0.64817706, 0.78061009])"
      ],
      "execution_count": null,
      "outputs": [
        {
          "output_type": "stream",
          "text": [
            "Initial dust score [0.81165417 0.6444057  0.6996748  0.76680562 0.77285419]\n",
            "Initial mass score [0.95041124 0.96801207 0.96475742 0.95151197 0.96481805]\n",
            "Initial age score [ 0.34760034  0.24277473  0.15998674  0.28688634 -0.05113709]\n",
            "Initial tau score [-0.05421851  0.05836256  0.01834784 -0.33094303 -0.11320138]\n"
          ],
          "name": "stdout"
        }
      ]
    },
    {
      "cell_type": "code",
      "metadata": {
        "id": "1phRQ6yHzkrM"
      },
      "source": [
        "ypred_dust = cross_val_predict(model, X1, Y1, cv = KFold(n_splits=5, shuffle=True))"
      ],
      "execution_count": null,
      "outputs": []
    },
    {
      "cell_type": "code",
      "metadata": {
        "id": "bVQ9mNJtyR_v"
      },
      "source": [
        "ypred_mass = cross_val_predict(model, X2, Y2, cv = KFold(n_splits=5, shuffle=True))"
      ],
      "execution_count": null,
      "outputs": []
    },
    {
      "cell_type": "code",
      "metadata": {
        "id": "PEN3lIhUy-3e"
      },
      "source": [
        "ypred_age = cross_val_predict(model, X3, Y3, cv = KFold(n_splits=5, shuffle=True))"
      ],
      "execution_count": null,
      "outputs": []
    },
    {
      "cell_type": "code",
      "metadata": {
        "id": "_ZgzJPx5zooO"
      },
      "source": [
        "ypred_tau = cross_val_predict(model, X4, Y4, cv = KFold(n_splits=5, shuffle=True))"
      ],
      "execution_count": null,
      "outputs": []
    },
    {
      "cell_type": "code",
      "metadata": {
        "colab": {
          "base_uri": "https://localhost:8080/"
        },
        "id": "NkA2BLp6MaWF",
        "outputId": "1aa213da-ed5c-4cd8-eb2a-1019b60cdcc1"
      },
      "source": [
        "ypred_mass.shape"
      ],
      "execution_count": null,
      "outputs": [
        {
          "output_type": "execute_result",
          "data": {
            "text/plain": [
              "(1000, 1)"
            ]
          },
          "metadata": {
            "tags": []
          },
          "execution_count": 433
        }
      ]
    },
    {
      "cell_type": "code",
      "metadata": {
        "colab": {
          "base_uri": "https://localhost:8080/"
        },
        "id": "tmuZyovu522w",
        "outputId": "22436c56-6635-4b4b-fef9-bcf3720c6e40"
      },
      "source": [
        "print('R2 dust, 1st Pass' , r2(Y1, ypred_dust))\r\n",
        "print('R2 mass, 1st Pass' , r2(Y2, ypred_mass))\r\n",
        "print('R2 age, 1st Pass' ,r2(Y3, ypred_age))\r\n",
        "print('R2 tau, 1st Pass' , r2(Y4, ypred_tau))"
      ],
      "execution_count": null,
      "outputs": [
        {
          "output_type": "stream",
          "text": [
            "R2 dust, 1st Pass 0.7379183972293396\n",
            "R2 mass, 1st Pass 0.9650605199039957\n",
            "R2 age, 1st Pass 0.32122788891774645\n",
            "R2 tau, 1st Pass -0.041406796713423955\n"
          ],
          "name": "stdout"
        }
      ]
    },
    {
      "cell_type": "markdown",
      "metadata": {
        "id": "OXA2gZC99kSQ"
      },
      "source": [
        "##The True values vs. Predictions values are ploted for each target feature "
      ]
    },
    {
      "cell_type": "code",
      "metadata": {
        "colab": {
          "base_uri": "https://localhost:8080/",
          "height": 369
        },
        "id": "SqPpe8P782vJ",
        "outputId": "6043de47-737a-4ca9-ee2b-e0429232578f"
      },
      "source": [
        "plt.scatter(Y1, ypred_dust, s = 20, c = 'plum')\r\n",
        "plt.title('Dust_av(True vs. Predicted) 1st Pass')\r\n",
        "plt.xlabel('True Dust_av' , fontsize=14)\r\n",
        "plt.ylabel('Predicted Dust_av',fontsize=14)\r\n",
        "plt.axis('square')"
      ],
      "execution_count": null,
      "outputs": [
        {
          "output_type": "execute_result",
          "data": {
            "text/plain": [
              "(-0.14133220740186403,\n",
              " 2.9749644638526984,\n",
              " -0.0852305533004701,\n",
              " 3.0310661179540923)"
            ]
          },
          "metadata": {
            "tags": []
          },
          "execution_count": 435
        },
        {
          "output_type": "display_data",
          "data": {
            "image/png": "[encoded data removed]",
            "text/plain": [
              "<Figure size 432x288 with 1 Axes>"
            ]
          },
          "metadata": {
            "tags": [],
            "needs_background": "light"
          }
        }
      ]
    },
    {
      "cell_type": "code",
      "metadata": {
        "colab": {
          "base_uri": "https://localhost:8080/",
          "height": 317
        },
        "id": "Tvh_IDENMxfh",
        "outputId": "0f104088-a85a-4fc3-f02d-c076d45cb20e"
      },
      "source": [
        "plt.scatter(Y2.values, ypred_mass, s = 20, c = 'tan')\r\n",
        "plt.title('Mass(True vs. Predicted) 1st Pass')\r\n",
        "plt.xlabel('True Mass' , fontsize=14)\r\n",
        "plt.ylabel('Predicted Mass',fontsize=14)\r\n",
        "plt.axis('square')\r\n",
        "plt.xlim(6.5,10.5)\r\n",
        "plt.ylim(6.5,10.5)"
      ],
      "execution_count": null,
      "outputs": [
        {
          "output_type": "execute_result",
          "data": {
            "text/plain": [
              "(6.5, 10.5)"
            ]
          },
          "metadata": {
            "tags": []
          },
          "execution_count": 436
        },
        {
          "output_type": "display_data",
          "data": {
            "image/png": "[encoded data removed]",
            "text/plain": [
              "<Figure size 432x288 with 1 Axes>"
            ]
          },
          "metadata": {
            "tags": [],
            "needs_background": "light"
          }
        }
      ]
    },
    {
      "cell_type": "code",
      "metadata": {
        "id": "Rqo0eIVKvrrc"
      },
      "source": [
        "#print(ypred_mass)"
      ],
      "execution_count": null,
      "outputs": []
    },
    {
      "cell_type": "code",
      "metadata": {
        "colab": {
          "base_uri": "https://localhost:8080/",
          "height": 369
        },
        "id": "E1fIQoXHNUg_",
        "outputId": "72aa6bd9-d844-4712-9d26-2c9b6aed26fd"
      },
      "source": [
        "plt.scatter(Y3,ypred_age, s = 20, c = 'green')\r\n",
        "plt.title('Age (True vs. Predicted) 1st Pass')\r\n",
        "plt.xlabel('True Age' , fontsize=14)\r\n",
        "plt.ylabel('Predicted Age',fontsize=14)\r\n",
        "plt.axis('square')"
      ],
      "execution_count": null,
      "outputs": [
        {
          "output_type": "execute_result",
          "data": {
            "text/plain": [
              "(-0.19651189335836516,\n",
              " 5.247057919625824,\n",
              " -0.05293283879054125,\n",
              " 5.390636974193648)"
            ]
          },
          "metadata": {
            "tags": []
          },
          "execution_count": 438
        },
        {
          "output_type": "display_data",
          "data": {
            "image/png": "[encoded data removed]",
            "text/plain": [
              "<Figure size 432x288 with 1 Axes>"
            ]
          },
          "metadata": {
            "tags": [],
            "needs_background": "light"
          }
        }
      ]
    },
    {
      "cell_type": "code",
      "metadata": {
        "colab": {
          "base_uri": "https://localhost:8080/",
          "height": 369
        },
        "id": "wLn6aWaPNaB_",
        "outputId": "5474fd47-ab56-4d49-e0c6-91ca59e1641e"
      },
      "source": [
        "plt.scatter(Y4,ypred_tau, s = 20, c = 'magenta')\r\n",
        "plt.title('Age (True vs. Predicted) 1st Pass')\r\n",
        "plt.xlabel('True Tau' , fontsize=14)\r\n",
        "plt.ylabel('Predicted Tau',fontsize=14)\r\n",
        "plt.axis('square')"
      ],
      "execution_count": null,
      "outputs": [
        {
          "output_type": "execute_result",
          "data": {
            "text/plain": [
              "(-0.4849681081518977,\n",
              " 10.404613864751978,\n",
              " -0.23794733513984045,\n",
              " 10.651634637764037)"
            ]
          },
          "metadata": {
            "tags": []
          },
          "execution_count": 439
        },
        {
          "output_type": "display_data",
          "data": {
            "image/png": "[encoded data removed]",
            "text/plain": [
              "<Figure size 432x288 with 1 Axes>"
            ]
          },
          "metadata": {
            "tags": [],
            "needs_background": "light"
          }
        }
      ]
    },
    {
      "cell_type": "markdown",
      "metadata": {
        "id": "xekhLYN292V_"
      },
      "source": [
        "###The predictions for stellar mass are very close to accurate\r\n",
        "###The predictionas for dust_av needs improvement. The plot seems follow a  linear pattern but not quite.\r\n",
        "###The predictions for age and tau are way off and their plots show a lot of outliers."
      ]
    },
    {
      "cell_type": "markdown",
      "metadata": {
        "id": "oiWXOXTx-yW0"
      },
      "source": [
        "##Rescaling using robust scaler "
      ]
    },
    {
      "cell_type": "code",
      "metadata": {
        "id": "nWgRouAVLsOD"
      },
      "source": [
        "scaler = sklearn.preprocessing.RobustScaler()"
      ],
      "execution_count": null,
      "outputs": []
    },
    {
      "cell_type": "code",
      "metadata": {
        "colab": {
          "base_uri": "https://localhost:8080/"
        },
        "id": "sJGgds5-ne4n",
        "outputId": "c1d5c71a-e4a0-4dc9-99e6-91e66b7710d8"
      },
      "source": [
        "scaler.fit(X1)"
      ],
      "execution_count": null,
      "outputs": [
        {
          "output_type": "execute_result",
          "data": {
            "text/plain": [
              "RobustScaler(copy=True, quantile_range=(25.0, 75.0), with_centering=True,\n",
              "             with_scaling=True)"
            ]
          },
          "metadata": {
            "tags": []
          },
          "execution_count": 444
        }
      ]
    },
    {
      "cell_type": "code",
      "metadata": {
        "colab": {
          "base_uri": "https://localhost:8080/"
        },
        "id": "aheipW6SLuLU",
        "outputId": "5dd1f32e-f121-4d51-c578-f9af5db65df3"
      },
      "source": [
        "scaler.fit(X3)"
      ],
      "execution_count": null,
      "outputs": [
        {
          "output_type": "execute_result",
          "data": {
            "text/plain": [
              "RobustScaler(copy=True, quantile_range=(25.0, 75.0), with_centering=True,\n",
              "             with_scaling=True)"
            ]
          },
          "metadata": {
            "tags": []
          },
          "execution_count": 445
        }
      ]
    },
    {
      "cell_type": "code",
      "metadata": {
        "colab": {
          "base_uri": "https://localhost:8080/"
        },
        "id": "E3CzGYh_mbiU",
        "outputId": "f2732ae2-5eb4-47e9-e403-277642709a22"
      },
      "source": [
        "scaler.fit(X4)"
      ],
      "execution_count": null,
      "outputs": [
        {
          "output_type": "execute_result",
          "data": {
            "text/plain": [
              "RobustScaler(copy=True, quantile_range=(25.0, 75.0), with_centering=True,\n",
              "             with_scaling=True)"
            ]
          },
          "metadata": {
            "tags": []
          },
          "execution_count": 446
        }
      ]
    },
    {
      "cell_type": "code",
      "metadata": {
        "id": "-g9PDZrPniHS"
      },
      "source": [
        "scaledX1 = scaler.transform(X1)"
      ],
      "execution_count": null,
      "outputs": []
    },
    {
      "cell_type": "code",
      "metadata": {
        "id": "95xYppTpMccq"
      },
      "source": [
        "scaledX3 = scaler.transform(X3)"
      ],
      "execution_count": null,
      "outputs": []
    },
    {
      "cell_type": "code",
      "metadata": {
        "id": "ntVs7sSPniQV"
      },
      "source": [
        "scaledX4 = scaler.transform(X4)"
      ],
      "execution_count": null,
      "outputs": []
    },
    {
      "cell_type": "code",
      "metadata": {
        "id": "OCQDwbXanrJA"
      },
      "source": [
        "ypred_dust_rob = cross_val_predict(model,scaledX1 , Y1, cv = KFold(n_splits=5, shuffle=True))"
      ],
      "execution_count": null,
      "outputs": []
    },
    {
      "cell_type": "code",
      "metadata": {
        "id": "J3fvt46s1-MP"
      },
      "source": [
        "ypred_age_rob = cross_val_predict(model,scaledX3 , Y3, cv = KFold(n_splits=5, shuffle=True))"
      ],
      "execution_count": null,
      "outputs": []
    },
    {
      "cell_type": "code",
      "metadata": {
        "id": "4jisxIPcnpyo"
      },
      "source": [
        "ypred_tau_rob = cross_val_predict(model,scaledX4 , Y4, cv = KFold(n_splits=5, shuffle=True))"
      ],
      "execution_count": null,
      "outputs": []
    },
    {
      "cell_type": "markdown",
      "metadata": {
        "id": "BrwEnZxV-84g"
      },
      "source": [
        "##Scores and R2 scores are looker better"
      ]
    },
    {
      "cell_type": "code",
      "metadata": {
        "colab": {
          "base_uri": "https://localhost:8080/"
        },
        "id": "He2n-GnH5Xqf",
        "outputId": "42bfe993-0401-475b-cbb1-41fb84e7d154"
      },
      "source": [
        "print('R2 dust, 2nd Pass' , r2(Y1, ypred_dust_rob))\r\n",
        "print('R2 dust, 1st Pass' , r2(Y1, ypred_dust))\r\n",
        "print('R2 age, 2nd Pass' ,r2(Y3, ypred_age_rob))\r\n",
        "print('R2 age, 1st Pass' ,r2(Y3, ypred_age))\r\n",
        "print('R2 tau, 2nd Pass' , r2(Y4, ypred_tau_rob))\r\n",
        "print('R2 tau, 1st Pass' , r2(Y4, ypred_tau))"
      ],
      "execution_count": null,
      "outputs": [
        {
          "output_type": "stream",
          "text": [
            "R2 dust, 2nd Pass 0.7502355963782337\n",
            "R2 dust, 1st Pass 0.7379183972293396\n",
            "R2 age, 2nd Pass 0.3250438557910307\n",
            "R2 age, 1st Pass 0.32122788891774645\n",
            "R2 tau, 2nd Pass -0.043338765384293376\n",
            "R2 tau, 1st Pass -0.041406796713423955\n"
          ],
          "name": "stdout"
        }
      ]
    },
    {
      "cell_type": "code",
      "metadata": {
        "colab": {
          "base_uri": "https://localhost:8080/"
        },
        "id": "iplY_VlVn3vd",
        "outputId": "9c195c45-8d5a-4df7-ec72-6b5aa2155e13"
      },
      "source": [
        "scores1_rob = cross_val_score(model, X = scaledX1, y = Y1, cv = KFold(n_splits=5, shuffle=True))\n",
        "print('robust dust score', scores1_rob)\n",
        "print('initial dust score', scores1)"
      ],
      "execution_count": null,
      "outputs": [
        {
          "output_type": "stream",
          "text": [
            "robust dust score [0.74724492 0.78813781 0.81269223 0.71524483 0.73945109]\n",
            "initial dust score [0.81165417 0.6444057  0.6996748  0.76680562 0.77285419]\n"
          ],
          "name": "stdout"
        }
      ]
    },
    {
      "cell_type": "code",
      "metadata": {
        "colab": {
          "base_uri": "https://localhost:8080/"
        },
        "id": "zHV15gqC2PHb",
        "outputId": "4b1d4eb0-f797-4f39-b5e3-fc5921031d4f"
      },
      "source": [
        "scores3_rob = cross_val_score(model, X = scaledX3, y = Y3, cv = KFold(n_splits=5, shuffle=True))\n",
        "print('robust age score', scores3)\n",
        "print('initial age score',scores3_rob)\n",
        "#scores4_rob = cross_val_score(model, X = X4train, y = Y4train, cv=5)"
      ],
      "execution_count": null,
      "outputs": [
        {
          "output_type": "stream",
          "text": [
            "robust age score [ 0.34760034  0.24277473  0.15998674  0.28688634 -0.05113709]\n",
            "initial age score [0.36997454 0.35116582 0.32853937 0.32537623 0.4387119 ]\n"
          ],
          "name": "stdout"
        }
      ]
    },
    {
      "cell_type": "code",
      "metadata": {
        "colab": {
          "base_uri": "https://localhost:8080/"
        },
        "id": "UQ3XDXdmn35n",
        "outputId": "deff6f0b-89a8-4fa8-954e-c98d01e569d7"
      },
      "source": [
        "scores4_rob = cross_val_score(model, X = scaledX4, y = Y4, cv = KFold(n_splits=5, shuffle=True))\n",
        "print('robust tau score',scores4)\n",
        "print('initial tau score',scores4_rob)"
      ],
      "execution_count": null,
      "outputs": [
        {
          "output_type": "stream",
          "text": [
            "robust tau score [-0.05421851  0.05836256  0.01834784 -0.33094303 -0.11320138]\n",
            "initial tau score [-0.00712024 -0.07027395 -0.04112905 -0.01930043 -0.06182254]\n"
          ],
          "name": "stdout"
        }
      ]
    },
    {
      "cell_type": "markdown",
      "metadata": {
        "id": "GVsczbdV_FE_"
      },
      "source": [
        "#Reploting using scaled predictions"
      ]
    },
    {
      "cell_type": "code",
      "metadata": {
        "colab": {
          "base_uri": "https://localhost:8080/",
          "height": 369
        },
        "id": "0qwEQg4qbXuh",
        "outputId": "8063fdf3-0c55-4656-c7b1-34883ff8e90d"
      },
      "source": [
        "plt.scatter(Y1, ypred_dust_rob, s = 20, c = 'plum')\n",
        "plt.title('Dust (True vs. Predicted) 2nd Pass')\n",
        "plt.xlabel('True Dust_av' , fontsize=14)\n",
        "plt.ylabel('Predicted Dust_av',fontsize=14)\n",
        "plt.axis('square')"
      ],
      "execution_count": null,
      "outputs": [
        {
          "output_type": "execute_result",
          "data": {
            "text/plain": [
              "(-0.14133220740186403,\n",
              " 2.9749644638526984,\n",
              " -0.08881301129562008,\n",
              " 3.0274836599589423)"
            ]
          },
          "metadata": {
            "tags": []
          },
          "execution_count": 457
        },
        {
          "output_type": "display_data",
          "data": {
            "image/png": "[encoded data removed]",
            "text/plain": [
              "<Figure size 432x288 with 1 Axes>"
            ]
          },
          "metadata": {
            "tags": [],
            "needs_background": "light"
          }
        }
      ]
    },
    {
      "cell_type": "code",
      "metadata": {
        "colab": {
          "base_uri": "https://localhost:8080/",
          "height": 369
        },
        "id": "hV6ptrfAbffX",
        "outputId": "c79b4150-4fc7-43e9-d91a-1b38dc1ed486"
      },
      "source": [
        "plt.scatter(Y3,ypred_age_rob, s = 20, c = 'green')\n",
        "plt.title('Age (True vs. Predicted) 2nd Pass')\n",
        "plt.xlabel('True Age' , fontsize=14)\n",
        "plt.ylabel('Predicted Age',fontsize=14)\n",
        "plt.axis('square')"
      ],
      "execution_count": null,
      "outputs": [
        {
          "output_type": "execute_result",
          "data": {
            "text/plain": [
              "(-0.19651189335836516,\n",
              " 5.247057919625824,\n",
              " -0.05807105432262094,\n",
              " 5.385498758661568)"
            ]
          },
          "metadata": {
            "tags": []
          },
          "execution_count": 458
        },
        {
          "output_type": "display_data",
          "data": {
            "image/png": "[encoded data removed]",
            "text/plain": [
              "<Figure size 432x288 with 1 Axes>"
            ]
          },
          "metadata": {
            "tags": [],
            "needs_background": "light"
          }
        }
      ]
    },
    {
      "cell_type": "code",
      "metadata": {
        "colab": {
          "base_uri": "https://localhost:8080/",
          "height": 369
        },
        "id": "Av66E2nKbX8-",
        "outputId": "333da5c8-d516-47f1-a46a-0056ffab3fbe"
      },
      "source": [
        "plt.scatter(Y4,ypred_tau_rob, s = 20, c = 'magenta')\n",
        "plt.title('Tau (True vs. Predicted) 2nd Pass')\n",
        "plt.xlabel('True Tau' , fontsize=14)\n",
        "plt.ylabel('Predicted Tau',fontsize=14)\n",
        "plt.axis('square')"
      ],
      "execution_count": null,
      "outputs": [
        {
          "output_type": "execute_result",
          "data": {
            "text/plain": [
              "(-0.4849681081518977,\n",
              " 10.404613864751978,\n",
              " -0.1920197670327013,\n",
              " 10.697562205871176)"
            ]
          },
          "metadata": {
            "tags": []
          },
          "execution_count": 459
        },
        {
          "output_type": "display_data",
          "data": {
            "image/png": "[encoded data removed]",
            "text/plain": [
              "<Figure size 432x288 with 1 Axes>"
            ]
          },
          "metadata": {
            "tags": [],
            "needs_background": "light"
          }
        }
      ]
    },
    {
      "cell_type": "markdown",
      "metadata": {
        "id": "X3sa_hl5_O7P"
      },
      "source": [
        "#Scafolding target teature tredictions in to dtaframe for improved accuracy "
      ]
    },
    {
      "cell_type": "markdown",
      "metadata": {
        "id": "k0THvka1_eWE"
      },
      "source": [
        "###First the original predictions for mass are converted into a pandas dataframe and then output to an excel file."
      ]
    },
    {
      "cell_type": "code",
      "metadata": {
        "id": "DLMrSACXYMdz"
      },
      "source": [
        "mass_pred = pd.DataFrame(data=ypred_mass[0:,0:1]) "
      ],
      "execution_count": null,
      "outputs": []
    },
    {
      "cell_type": "code",
      "metadata": {
        "colab": {
          "base_uri": "https://localhost:8080/",
          "height": 415
        },
        "id": "g0ObJxyi11RL",
        "outputId": "6774f24d-e5b4-46a1-ec7f-c86a845e4bc8"
      },
      "source": [
        "mass_pred.reset_index(drop=True, inplace=True)\n",
        "mass_pred"
      ],
      "execution_count": null,
      "outputs": [
        {
          "output_type": "execute_result",
          "data": {
            "text/html": [
              "<div>\n",
              "<style scoped>\n",
              "    .dataframe tbody tr th:only-of-type {\n",
              "        vertical-align: middle;\n",
              "    }\n",
              "\n",
              "    .dataframe tbody tr th {\n",
              "        vertical-align: top;\n",
              "    }\n",
              "\n",
              "    .dataframe thead th {\n",
              "        text-align: right;\n",
              "    }\n",
              "</style>\n",
              "<table border=\"1\" class=\"dataframe\">\n",
              "  <thead>\n",
              "    <tr style=\"text-align: right;\">\n",
              "      <th></th>\n",
              "      <th>0</th>\n",
              "    </tr>\n",
              "  </thead>\n",
              "  <tbody>\n",
              "    <tr>\n",
              "      <th>0</th>\n",
              "      <td>8.075701</td>\n",
              "    </tr>\n",
              "    <tr>\n",
              "      <th>1</th>\n",
              "      <td>8.344712</td>\n",
              "    </tr>\n",
              "    <tr>\n",
              "      <th>2</th>\n",
              "      <td>8.040013</td>\n",
              "    </tr>\n",
              "    <tr>\n",
              "      <th>3</th>\n",
              "      <td>8.315747</td>\n",
              "    </tr>\n",
              "    <tr>\n",
              "      <th>4</th>\n",
              "      <td>8.321264</td>\n",
              "    </tr>\n",
              "    <tr>\n",
              "      <th>...</th>\n",
              "      <td>...</td>\n",
              "    </tr>\n",
              "    <tr>\n",
              "      <th>995</th>\n",
              "      <td>8.859929</td>\n",
              "    </tr>\n",
              "    <tr>\n",
              "      <th>996</th>\n",
              "      <td>7.929756</td>\n",
              "    </tr>\n",
              "    <tr>\n",
              "      <th>997</th>\n",
              "      <td>8.368792</td>\n",
              "    </tr>\n",
              "    <tr>\n",
              "      <th>998</th>\n",
              "      <td>8.295365</td>\n",
              "    </tr>\n",
              "    <tr>\n",
              "      <th>999</th>\n",
              "      <td>8.261507</td>\n",
              "    </tr>\n",
              "  </tbody>\n",
              "</table>\n",
              "<p>1000 rows × 1 columns</p>\n",
              "</div>"
            ],
            "text/plain": [
              "            0\n",
              "0    8.075701\n",
              "1    8.344712\n",
              "2    8.040013\n",
              "3    8.315747\n",
              "4    8.321264\n",
              "..        ...\n",
              "995  8.859929\n",
              "996  7.929756\n",
              "997  8.368792\n",
              "998  8.295365\n",
              "999  8.261507\n",
              "\n",
              "[1000 rows x 1 columns]"
            ]
          },
          "metadata": {
            "tags": []
          },
          "execution_count": 461
        }
      ]
    },
    {
      "cell_type": "code",
      "metadata": {
        "id": "xGii2x3gxQ6V"
      },
      "source": [
        "mass_pred.to_excel(\"mass_pred.xlsx\") \n",
        "pred_mass=pd.read_excel('mass_pred.xlsx')"
      ],
      "execution_count": null,
      "outputs": []
    },
    {
      "cell_type": "markdown",
      "metadata": {
        "id": "-CoqE8QB_uyi"
      },
      "source": [
        "###The mass predictions are concated to the spectra dataframe"
      ]
    },
    {
      "cell_type": "code",
      "metadata": {
        "id": "ayKJYIsroWxY"
      },
      "source": [
        "df_mass_pred = pd.concat([dust_avs,pred_mass.iloc[:,1:],specs], ignore_index= True, axis=1,sort =False)"
      ],
      "execution_count": null,
      "outputs": []
    },
    {
      "cell_type": "code",
      "metadata": {
        "colab": {
          "base_uri": "https://localhost:8080/"
        },
        "id": "8GFIV62a1YFF",
        "outputId": "d7ebbd1b-6641-4fae-c395-69b972b40aac"
      },
      "source": [
        "df_mass_pred.head"
      ],
      "execution_count": null,
      "outputs": [
        {
          "output_type": "execute_result",
          "data": {
            "text/plain": [
              "<bound method NDFrame.head of           0         1         2    ...       849       850       851\n",
              "0    0.164869  8.075701  0.010532  ...  0.023532  0.023523  0.023560\n",
              "1    0.200852  8.344712  0.012205  ...  0.043910  0.043594  0.043794\n",
              "2    0.197863  8.040013  0.003660  ...  0.015475  0.015348  0.015374\n",
              "3    0.001000  8.315747  0.065447  ...  0.049791  0.049233  0.049177\n",
              "4    0.001000  8.321264  0.143073  ...  0.068354  0.067859  0.067661\n",
              "..        ...       ...       ...  ...       ...       ...       ...\n",
              "995  0.322905  8.859929  0.084785  ...  0.234346  0.233746  0.235702\n",
              "996  0.870794  7.929756  0.014452  ...  0.126414  0.128591  0.131057\n",
              "997  0.001000  8.368792  0.153889  ...  0.073292  0.072723  0.072523\n",
              "998  0.232163  8.295365  0.025145  ...  0.053276  0.053137  0.053471\n",
              "999  0.456984  8.261507  0.046592  ...  0.125763  0.127002  0.128654\n",
              "\n",
              "[1000 rows x 852 columns]>"
            ]
          },
          "metadata": {
            "tags": []
          },
          "execution_count": 464
        }
      ]
    },
    {
      "cell_type": "code",
      "metadata": {
        "id": "DaF08cFeIqTt"
      },
      "source": [
        "LearningSet2 = df_mass_pred"
      ],
      "execution_count": null,
      "outputs": []
    },
    {
      "cell_type": "code",
      "metadata": {
        "colab": {
          "base_uri": "https://localhost:8080/"
        },
        "id": "pQtmp4SKKq_Z",
        "outputId": "274b0d93-1850-4004-d083-dd5afc1808fa"
      },
      "source": [
        "df_mass_pred.shape"
      ],
      "execution_count": null,
      "outputs": [
        {
          "output_type": "execute_result",
          "data": {
            "text/plain": [
              "(1000, 852)"
            ]
          },
          "metadata": {
            "tags": []
          },
          "execution_count": 466
        }
      ]
    },
    {
      "cell_type": "markdown",
      "metadata": {
        "id": "A-mv32Xs_4lw"
      },
      "source": [
        "###With a new dataframe containing the mass feature column, we build new predictions for dust averages, age and tau."
      ]
    },
    {
      "cell_type": "code",
      "metadata": {
        "id": "lME1DBJKJbxm"
      },
      "source": [
        "X1_2 = df_mass_pred.iloc[:,1:]\n",
        "Y1_2 = df_mass_pred.iloc[:, :1] \n",
        "X1_2train, X1_2test, Y1_2train, Y1_2test = train_test_split(X1_2, Y1_2,test_size=0.2) "
      ],
      "execution_count": null,
      "outputs": []
    },
    {
      "cell_type": "code",
      "metadata": {
        "colab": {
          "base_uri": "https://localhost:8080/"
        },
        "id": "IIZJbF4DJz45",
        "outputId": "d1ab372c-9f3a-4843-cfa8-1ab34186e73c"
      },
      "source": [
        "scores1_2 = cross_val_score(model, X = X1_2train, y = Y1_2train, cv=5)\n",
        "print('dust scores, 3rd Pass', scores1_2)\n",
        "print('dust scores, robust',scores1_rob)\n",
        "print('dust scores, initial',scores1)"
      ],
      "execution_count": null,
      "outputs": [
        {
          "output_type": "stream",
          "text": [
            "dust scores, 3rd Pass [0.75533017 0.60541708 0.76002131 0.6426521  0.68574661]\n",
            "dust scores, robust [0.74724492 0.78813781 0.81269223 0.71524483 0.73945109]\n",
            "dust scores, initial [0.81165417 0.6444057  0.6996748  0.76680562 0.77285419]\n"
          ],
          "name": "stdout"
        }
      ]
    },
    {
      "cell_type": "code",
      "metadata": {
        "id": "zMb1BiokLCz4"
      },
      "source": [
        "ypred_dust3 = cross_val_predict(model, X1_2, Y1_2, cv = KFold(n_splits=5, shuffle=True))"
      ],
      "execution_count": null,
      "outputs": []
    },
    {
      "cell_type": "code",
      "metadata": {
        "colab": {
          "base_uri": "https://localhost:8080/"
        },
        "id": "ghkUZwFsBNPD",
        "outputId": "7d9e1e92-ccb1-4fce-d5af-d8353e7d9514"
      },
      "source": [
        "print('R2 dust, 3rd Pass',r2(Y1_2, ypred_dust3))\r\n",
        "print('R2 dust, 2nd Pass' , r2(Y1, ypred_dust_rob))\r\n",
        "print('R2 dust, 1st Pass' , r2(Y1, ypred_dust))"
      ],
      "execution_count": null,
      "outputs": [
        {
          "output_type": "stream",
          "text": [
            "R2 dust, 3rd Pass 0.7331830130219572\n",
            "R2 dust, 2nd Pass 0.7502355963782337\n",
            "R2 dust, 1st Pass 0.7379183972293396\n"
          ],
          "name": "stdout"
        }
      ]
    },
    {
      "cell_type": "code",
      "metadata": {
        "id": "iKKgxK7Me9PZ"
      },
      "source": [
        "df_mass_pred2 = pd.concat([age,pred_mass.iloc[:,1:],specs], ignore_index= True, axis=1,sort =False)"
      ],
      "execution_count": null,
      "outputs": []
    },
    {
      "cell_type": "code",
      "metadata": {
        "id": "7B4f7GutepDB"
      },
      "source": [
        "X3_2 = df_mass_pred2.iloc[:,1:]\n",
        "Y3_2 = df_mass_pred2.iloc[:, :1] \n",
        "X3_2train, X3_2test, Y3_2train, Y3_2test = train_test_split(X3_2, Y3_2,test_size=0.2)"
      ],
      "execution_count": null,
      "outputs": []
    },
    {
      "cell_type": "code",
      "metadata": {
        "colab": {
          "base_uri": "https://localhost:8080/"
        },
        "id": "mIUvEVSRfSl-",
        "outputId": "3f9d47cb-c366-407c-8244-78bbb3d74f5c"
      },
      "source": [
        "scores3_2 = cross_val_score(model, X = X3_2train, y = Y3_2train, cv=5)\n",
        "print('Age scores, 3rd Pass',scores3_2)\n",
        "print('Age scores, robust',scores3_rob)\n",
        "print('Age scores,  initial',scores3)"
      ],
      "execution_count": null,
      "outputs": [
        {
          "output_type": "stream",
          "text": [
            "Age scores, 3rd Pass [0.30126213 0.28084154 0.14076098 0.22809007 0.38100882]\n",
            "Age scores, robust [0.36997454 0.35116582 0.32853937 0.32537623 0.4387119 ]\n",
            "Age scores,  initial [ 0.34760034  0.24277473  0.15998674  0.28688634 -0.05113709]\n"
          ],
          "name": "stdout"
        }
      ]
    },
    {
      "cell_type": "code",
      "metadata": {
        "id": "sC-rMDOEgIgY"
      },
      "source": [
        "ypred_age3 = cross_val_predict(model, X3_2, Y3_2, cv = KFold(n_splits=5, shuffle=True))"
      ],
      "execution_count": null,
      "outputs": []
    },
    {
      "cell_type": "code",
      "metadata": {
        "colab": {
          "base_uri": "https://localhost:8080/"
        },
        "id": "m0fbtUnRCilV",
        "outputId": "57e347e9-26a0-4472-ee37-8b8e784b3185"
      },
      "source": [
        "print('R2 age, 3rd Pass' ,r2(Y3_2, ypred_age3))\r\n",
        "print('R2 age, 2nd Pass' , r2(Y3, ypred_age_rob))\r\n",
        "print('R2 age, 1st Pass' , r2(Y3, ypred_age))"
      ],
      "execution_count": null,
      "outputs": [
        {
          "output_type": "stream",
          "text": [
            "R2 age, 3rd Pass 0.33532761905990593\n",
            "R2 age, 2nd Pass 0.3250438557910307\n",
            "R2 age, 1st Pass 0.32122788891774645\n"
          ],
          "name": "stdout"
        }
      ]
    },
    {
      "cell_type": "code",
      "metadata": {
        "id": "tudfpHibdmkI"
      },
      "source": [
        "df_mass_pred3 = pd.concat([tau,pred_mass.iloc[:,1:],specs], ignore_index= True, axis=1,sort =False)"
      ],
      "execution_count": null,
      "outputs": []
    },
    {
      "cell_type": "code",
      "metadata": {
        "id": "hu_4JhdNdqdS"
      },
      "source": [
        "X4_2 = df_mass_pred2.iloc[:,1:]\r\n",
        "Y4_2 = df_mass_pred2.iloc[:, :1] \r\n",
        "X4_2train, X4_2test, Y4_2train, Y4_2test = train_test_split(X4_2, Y4_2,test_size=0.2)"
      ],
      "execution_count": null,
      "outputs": []
    },
    {
      "cell_type": "code",
      "metadata": {
        "colab": {
          "base_uri": "https://localhost:8080/"
        },
        "id": "y5D6V81fd0R4",
        "outputId": "b06beb03-9c1a-4bc3-b07c-c7d6c4e99714"
      },
      "source": [
        "scores4_2 = cross_val_score(model, X = X4_2train, y = Y4_2train, cv=5)\r\n",
        "print('Tau scores, 3rd Pass',scores4_2)\r\n",
        "print('Tau scores, 2nd Pass',scores4_rob)\r\n",
        "print('Tau scores,  initial',scores4)"
      ],
      "execution_count": null,
      "outputs": [
        {
          "output_type": "stream",
          "text": [
            "Tau scores, 3rd Pass [0.29534629 0.35881124 0.34571712 0.34484461 0.3224191 ]\n",
            "Tau scores, 2nd Pass [-0.00712024 -0.07027395 -0.04112905 -0.01930043 -0.06182254]\n",
            "Tau scores,  initial [-0.05421851  0.05836256  0.01834784 -0.33094303 -0.11320138]\n"
          ],
          "name": "stdout"
        }
      ]
    },
    {
      "cell_type": "code",
      "metadata": {
        "id": "R8OvnHRtd9vV"
      },
      "source": [
        "ypred_tau3 = cross_val_predict(model, X3_2, Y3_2, cv = KFold(n_splits=5, shuffle=True))"
      ],
      "execution_count": null,
      "outputs": []
    },
    {
      "cell_type": "code",
      "metadata": {
        "colab": {
          "base_uri": "https://localhost:8080/"
        },
        "id": "rBj1P2WJeGWl",
        "outputId": "bd7004a5-78ce-4f24-ffbd-052ece6d94bc"
      },
      "source": [
        "print('R2 tau, 3rd Pass' ,r2(Y4_2, ypred_tau3))\r\n",
        "print('R2 tau, 2nd Pass' , r2(Y4, ypred_tau_rob))\r\n",
        "print('R2 tau, 1st Pass' , r2(Y4, ypred_tau))"
      ],
      "execution_count": null,
      "outputs": [
        {
          "output_type": "stream",
          "text": [
            "R2 tau, 3rd Pass 0.31432491369341575\n",
            "R2 tau, 2nd Pass -0.043338765384293376\n",
            "R2 tau, 1st Pass -0.041406796713423955\n"
          ],
          "name": "stdout"
        }
      ]
    },
    {
      "cell_type": "markdown",
      "metadata": {
        "id": "A3yb9SeJAKl8"
      },
      "source": [
        "###With better looking scores and predictions, new accuracy plots are made for dust averages, age and tau."
      ]
    },
    {
      "cell_type": "code",
      "metadata": {
        "colab": {
          "base_uri": "https://localhost:8080/",
          "height": 369
        },
        "id": "CP6PNjUca6Xa",
        "outputId": "a6e39e6b-38c3-495b-d6bc-68848e8858b3"
      },
      "source": [
        "plt.scatter(Y1_2, ypred_dust3, s = 20, c = 'plum')\n",
        "plt.title('Dust (True vs. Predicted) 3rd Pass')\n",
        "plt.xlabel('True Dust_av' , fontsize=14)\n",
        "plt.ylabel('Predicted Dust_av',fontsize=14)\n",
        "plt.axis('square')"
      ],
      "execution_count": null,
      "outputs": [
        {
          "output_type": "execute_result",
          "data": {
            "text/plain": [
              "(-0.14133220740186403,\n",
              " 2.9749644638526984,\n",
              " -0.10019598943202038,\n",
              " 3.0161006818225418)"
            ]
          },
          "metadata": {
            "tags": []
          },
          "execution_count": 471
        },
        {
          "output_type": "display_data",
          "data": {
            "image/png": "[encoded data removed]",
            "text/plain": [
              "<Figure size 432x288 with 1 Axes>"
            ]
          },
          "metadata": {
            "tags": [],
            "needs_background": "light"
          }
        }
      ]
    },
    {
      "cell_type": "code",
      "metadata": {
        "colab": {
          "base_uri": "https://localhost:8080/",
          "height": 369
        },
        "id": "4aUsI8TigPKQ",
        "outputId": "17138c00-f12b-499b-d9f2-b1c6651b0fa3"
      },
      "source": [
        "plt.scatter(Y3_2, ypred_age3, s = 20, c = 'green')\n",
        "plt.title('Age (True vs. Predicted) 3rd Pass')\n",
        "plt.xlabel('True Age' , fontsize=14)\n",
        "plt.ylabel('Predicted Age',fontsize=14)\n",
        "plt.axis('square')"
      ],
      "execution_count": null,
      "outputs": [
        {
          "output_type": "execute_result",
          "data": {
            "text/plain": [
              "(-0.19651189335836516,\n",
              " 5.247057919625824,\n",
              " -0.06365387767744876,\n",
              " 5.379915935306741)"
            ]
          },
          "metadata": {
            "tags": []
          },
          "execution_count": 477
        },
        {
          "output_type": "display_data",
          "data": {
            "image/png": "[encoded data removed]",
            "text/plain": [
              "<Figure size 432x288 with 1 Axes>"
            ]
          },
          "metadata": {
            "tags": [],
            "needs_background": "light"
          }
        }
      ]
    },
    {
      "cell_type": "code",
      "metadata": {
        "colab": {
          "base_uri": "https://localhost:8080/",
          "height": 369
        },
        "id": "u05r5vRjeR3R",
        "outputId": "6205b61f-4728-4ad6-f858-e5f36f86c33c"
      },
      "source": [
        "plt.scatter(Y4_2, ypred_tau3, s = 20, c = 'magenta')\r\n",
        "plt.title('Tau (True vs. Predicted) 3rd Pass')\r\n",
        "plt.xlabel('True Tau' , fontsize=14)\r\n",
        "plt.ylabel('Predicted Tau',fontsize=14)\r\n",
        "plt.axis('square')"
      ],
      "execution_count": null,
      "outputs": [
        {
          "output_type": "execute_result",
          "data": {
            "text/plain": [
              "(-0.19651189335836516,\n",
              " 5.247057919625824,\n",
              " -0.040449327205344526,\n",
              " 5.403120485778845)"
            ]
          },
          "metadata": {
            "tags": []
          },
          "execution_count": 483
        },
        {
          "output_type": "display_data",
          "data": {
            "image/png": "[encoded data removed]",
            "text/plain": [
              "<Figure size 432x288 with 1 Axes>"
            ]
          },
          "metadata": {
            "tags": [],
            "needs_background": "light"
          }
        }
      ]
    },
    {
      "cell_type": "markdown",
      "metadata": {
        "id": "bK1635lIAqhM"
      },
      "source": [
        "#Scafolding both predicted dust averages and steller mass to spectra dataframe.\r\n",
        "\r\n",
        "###This third learning set will be used for better predictions of age and tau. "
      ]
    },
    {
      "cell_type": "code",
      "metadata": {
        "id": "V3OAgoY-g9Hi"
      },
      "source": [
        "dust_predr = pd.DataFrame(data=ypred_dust_rob[0:,0:1]) \n",
        "age_pred = pd.DataFrame(data=ypred_age[0:,0:1]) \n",
        "tau_pred = pd.DataFrame(data=ypred_tau[0:,0:1]) "
      ],
      "execution_count": null,
      "outputs": []
    },
    {
      "cell_type": "code",
      "metadata": {
        "id": "7tSt67gOhP8R"
      },
      "source": [
        "dust_predr.reset_index(drop=True, inplace=True)\n",
        "age_pred.reset_index(drop=True, inplace=True)\n",
        "tau_pred.reset_index(drop=True, inplace=True)"
      ],
      "execution_count": null,
      "outputs": []
    },
    {
      "cell_type": "code",
      "metadata": {
        "id": "g9FCE6uThWIj"
      },
      "source": [
        "dust_predr.to_excel(\"dust_pred_rob.xlsx\") \n",
        "dust_predr =pd.read_excel('dust_pred_rob.xlsx')\n",
        "age_pred.to_excel(\"age_pred.xlsx\") \n",
        "age_pred =pd.read_excel('age_pred.xlsx')\n",
        "tau_pred.to_excel(\"tau_pred.xlsx\") \n",
        "tau_pred =pd.read_excel('tau_pred.xlsx')"
      ],
      "execution_count": null,
      "outputs": []
    },
    {
      "cell_type": "code",
      "metadata": {
        "id": "1p0iRBm6hoey"
      },
      "source": [
        "df_mass_dust_pred = pd.concat([ age_pred.iloc[:,1:],dust_predr.iloc[:,1:],pred_mass.iloc[:,1:],specs], ignore_index= True, axis=1,sort =False)"
      ],
      "execution_count": null,
      "outputs": []
    },
    {
      "cell_type": "code",
      "metadata": {
        "colab": {
          "base_uri": "https://localhost:8080/"
        },
        "id": "_16p9HnQi_ni",
        "outputId": "1fa2f155-d0eb-4c50-cbf3-36219785f0c6"
      },
      "source": [
        "df_mass_dust_pred.head"
      ],
      "execution_count": null,
      "outputs": [
        {
          "output_type": "execute_result",
          "data": {
            "text/plain": [
              "<bound method NDFrame.head of           0         1         2    ...       850       851       852\n",
              "0    0.500893  0.157452  8.075701  ...  0.023532  0.023523  0.023560\n",
              "1    0.908100  0.051851  8.344712  ...  0.043910  0.043594  0.043794\n",
              "2    2.114373  0.211950  8.040013  ...  0.015475  0.015348  0.015374\n",
              "3    0.591781  0.015622  8.315747  ...  0.049791  0.049233  0.049177\n",
              "4    0.559980  0.013777  8.321264  ...  0.068354  0.067859  0.067661\n",
              "..        ...       ...       ...  ...       ...       ...       ...\n",
              "995  0.689974  0.356280  8.859929  ...  0.234346  0.233746  0.235702\n",
              "996  0.203638  0.785045  7.929756  ...  0.126414  0.128591  0.131057\n",
              "997  0.547714  0.006934  8.368792  ...  0.073292  0.072723  0.072523\n",
              "998  1.019675  0.183786  8.295365  ...  0.053276  0.053137  0.053471\n",
              "999  0.404136  0.425458  8.261507  ...  0.125763  0.127002  0.128654\n",
              "\n",
              "[1000 rows x 853 columns]>"
            ]
          },
          "metadata": {
            "tags": []
          },
          "execution_count": 488
        }
      ]
    },
    {
      "cell_type": "code",
      "metadata": {
        "id": "V1rCeENsjEu5"
      },
      "source": [
        "LearningSet3 = df_mass_dust_pred"
      ],
      "execution_count": null,
      "outputs": []
    },
    {
      "cell_type": "code",
      "metadata": {
        "id": "Vsgq8CcnjmRT"
      },
      "source": [
        "X3_3 = df_mass_dust_pred.iloc[:,1:]\n",
        "Y3_3 = df_mass_dust_pred.iloc[:, :1] \n",
        "X3_3train, X3_3test, Y3_3train, Y3_3test = train_test_split(X3_3, Y3_3,test_size=0.2) "
      ],
      "execution_count": null,
      "outputs": []
    },
    {
      "cell_type": "markdown",
      "metadata": {
        "id": "-Ewt_e2mBNVL"
      },
      "source": [
        "###The new scores for age and tau are compared to the first two sets and are looking much better."
      ]
    },
    {
      "cell_type": "code",
      "metadata": {
        "colab": {
          "base_uri": "https://localhost:8080/"
        },
        "id": "7i3oMV1zkIb5",
        "outputId": "9de9f414-8643-4db5-863f-6d21c6c3bafe"
      },
      "source": [
        "scores3_3 = cross_val_score(model, X = X3_3train, y = Y3_3train, cv=5)\n",
        "print('Age scores, 4th Pass',scores3_3)\n",
        "print('Age scores, 3rd Pass',scores3_2)\n",
        "print('Age scores, 2nd Pass',scores3_rob)\n",
        "print('Age scores, 1st Pass',scores3)"
      ],
      "execution_count": null,
      "outputs": [
        {
          "output_type": "stream",
          "text": [
            "Age scores, 4th Pass [0.71375536 0.67091576 0.63883108 0.70639509 0.69616279]\n",
            "Age scores, 3rd Pass [0.30126213 0.28084154 0.14076098 0.22809007 0.38100882]\n",
            "Age scores, 2nd Pass [0.36997454 0.35116582 0.32853937 0.32537623 0.4387119 ]\n",
            "Age scores, 3rd Pass [ 0.34760034  0.24277473  0.15998674  0.28688634 -0.05113709]\n"
          ],
          "name": "stdout"
        }
      ]
    },
    {
      "cell_type": "code",
      "metadata": {
        "id": "Mj1vsmVYkhlY"
      },
      "source": [
        "ypred_age4 = cross_val_predict(model, X3_3, Y3_3, cv = KFold(n_splits=5, shuffle=True))"
      ],
      "execution_count": null,
      "outputs": []
    },
    {
      "cell_type": "code",
      "metadata": {
        "colab": {
          "base_uri": "https://localhost:8080/"
        },
        "id": "1Bq7vopYGDbU",
        "outputId": "9be14887-3c33-40c6-a7b7-066a5280211b"
      },
      "source": [
        "print('R2 age, 4th Pass' ,r2(Y3_3, ypred_age4))\r\n",
        "print('R2 age, 3rd Pass' ,r2(Y3_2, ypred_age3))\r\n",
        "print('R2 age, 2nd Pass' , r2(Y3, ypred_age_rob))\r\n",
        "print('R2 age, 1st Pass' , r2(Y3, ypred_age))"
      ],
      "execution_count": null,
      "outputs": [
        {
          "output_type": "stream",
          "text": [
            "R2 age, 4th Pass 0.7289077142930063\n",
            "R2 age, 3rd Pass 0.33532761905990593\n",
            "R2 age, 2nd Pass 0.3250438557910307\n",
            "R2 age, 1st Pass 0.32122788891774645\n"
          ],
          "name": "stdout"
        }
      ]
    },
    {
      "cell_type": "code",
      "metadata": {
        "id": "YDTuLRFhnF06"
      },
      "source": [
        "df_mass_dust_pred2 = pd.concat([tau_pred.iloc[:,1:],dust_predr.iloc[:,1:],pred_mass.iloc[:,1:],specs], ignore_index= True, axis=1,sort =False)"
      ],
      "execution_count": null,
      "outputs": []
    },
    {
      "cell_type": "code",
      "metadata": {
        "id": "hmHHF7fTnlY_"
      },
      "source": [
        "X4_2 = df_mass_dust_pred2.iloc[:,1:]\n",
        "Y4_2 = df_mass_dust_pred2.iloc[:, :1] \n",
        "X4_2train, X4_2test, Y4_2train, Y4_2test = train_test_split(X4_2, Y4_2,test_size=0.2) "
      ],
      "execution_count": null,
      "outputs": []
    },
    {
      "cell_type": "code",
      "metadata": {
        "colab": {
          "base_uri": "https://localhost:8080/"
        },
        "id": "wPJJUQZenxvo",
        "outputId": "fe7a6b63-f85c-4192-ad53-746a4f33c8fd"
      },
      "source": [
        "scores4_3 = cross_val_score(model, X = X4_3train, y = Y4_3train, cv=5)\n",
        "print('Tau scores, 4th Pass',scores4_3)\n",
        "print('Tau scores, 3rd Pass',scores4_2)\n",
        "print('Tau scores, 2nd Pass', scores4_rob)\n",
        "print('Tau scores, 1st Pass',scores4)"
      ],
      "execution_count": null,
      "outputs": [
        {
          "output_type": "stream",
          "text": [
            "Tau scores, 4th Pass [0.49129071 0.45011454 0.50107111 0.60559366 0.46970312]\n",
            "Tau scores, 3rd Pass [0.29534629 0.35881124 0.34571712 0.34484461 0.3224191 ]\n",
            "Tau scores, 2nd Pass [-0.00712024 -0.07027395 -0.04112905 -0.01930043 -0.06182254]\n",
            "Tau scores, 1st Pass [-0.05421851  0.05836256  0.01834784 -0.33094303 -0.11320138]\n"
          ],
          "name": "stdout"
        }
      ]
    },
    {
      "cell_type": "code",
      "metadata": {
        "id": "9l2Puy12nynU"
      },
      "source": [
        "ypred_tau4 = cross_val_predict(model, X4_3, Y4_3, cv = KFold(n_splits=5, shuffle=True))"
      ],
      "execution_count": null,
      "outputs": []
    },
    {
      "cell_type": "code",
      "metadata": {
        "colab": {
          "base_uri": "https://localhost:8080/"
        },
        "id": "yj5lr_glF1Fl",
        "outputId": "d21ff27f-13a1-44c8-b3dc-3b5b8c0b36b0"
      },
      "source": [
        "print('R2 tau, 4th Pass' ,r2(Y4_3, ypred_tau4))\r\n",
        "print('R2 tau, 3rd Pass' ,r2(Y4_2, ypred_tau3))\r\n",
        "print('R2 tau, 2nd Pass' , r2(Y4, ypred_tau_rob))\r\n",
        "print('R2 tau, 1st Pass' , r2(Y4, ypred_tau))"
      ],
      "execution_count": null,
      "outputs": [
        {
          "output_type": "stream",
          "text": [
            "R2 tau, 4th Pass 0.47705693186547804\n",
            "R2 tau, 3rd Pass -0.3232995602304778\n",
            "R2 tau, 2nd Pass -0.043338765384293376\n",
            "R2 tau, 1st Pass -0.041406796713423955\n"
          ],
          "name": "stdout"
        }
      ]
    },
    {
      "cell_type": "markdown",
      "metadata": {
        "id": "Wt2UZUVzBk4a"
      },
      "source": [
        "###The new plots show that the new predictions are closer to the true values."
      ]
    },
    {
      "cell_type": "code",
      "metadata": {
        "colab": {
          "base_uri": "https://localhost:8080/",
          "height": 369
        },
        "id": "Yj6Yj-Jyk4qH",
        "outputId": "9849fcc9-1010-468a-f192-0961af1c2e43"
      },
      "source": [
        "plt.scatter(Y3_3, ypred_age4, s = 20, c = 'green')\n",
        "plt.title('Age (True vs. Predicted) 4th Pass')\n",
        "plt.xlabel('True Age_av' , fontsize=14)\n",
        "plt.ylabel('Predicted Age',fontsize=14)\n",
        "plt.axis('square')"
      ],
      "execution_count": null,
      "outputs": [
        {
          "output_type": "execute_result",
          "data": {
            "text/plain": [
              "(-0.052932838790541226,\n",
              " 2.977656035943736,\n",
              " 0.12721397342665017,\n",
              " 3.1578028481609275)"
            ]
          },
          "metadata": {
            "tags": []
          },
          "execution_count": 493
        },
        {
          "output_type": "display_data",
          "data": {
            "image/png": "[encoded data removed]",
            "text/plain": [
              "<Figure size 432x288 with 1 Axes>"
            ]
          },
          "metadata": {
            "tags": [],
            "needs_background": "light"
          }
        }
      ]
    },
    {
      "cell_type": "code",
      "metadata": {
        "colab": {
          "base_uri": "https://localhost:8080/",
          "height": 369
        },
        "id": "2PGHds93n3bG",
        "outputId": "1b98b93e-8db6-483c-ead5-daa8736e035e"
      },
      "source": [
        "plt.scatter(Y4_3,ypred_tau4, s = 20, c = 'magenta')\n",
        "plt.title('Tau (True vs. Predicted) 4th Pass')\n",
        "plt.xlabel('True Tau' , fontsize=14)\n",
        "plt.ylabel('Predicted Tau',fontsize=14)\n",
        "plt.axis('square')"
      ],
      "execution_count": null,
      "outputs": [
        {
          "output_type": "execute_result",
          "data": {
            "text/plain": [
              "(-0.23743841540491692,\n",
              " 5.278305801047152,\n",
              " -0.14075476140871807,\n",
              " 5.374989455043351)"
            ]
          },
          "metadata": {
            "tags": []
          },
          "execution_count": 498
        },
        {
          "output_type": "display_data",
          "data": {
            "image/png": "[encoded data removed]",
            "text/plain": [
              "<Figure size 432x288 with 1 Axes>"
            ]
          },
          "metadata": {
            "tags": [],
            "needs_background": "light"
          }
        }
      ]
    },
    {
      "cell_type": "markdown",
      "metadata": {
        "id": "ulOGgOdwCFkP"
      },
      "source": [
        "#Scafolding all three predicted target features of steller mass, dust average and age to improve the tau prediction. "
      ]
    },
    {
      "cell_type": "code",
      "metadata": {
        "id": "lZw28ULElPE2"
      },
      "source": [
        "df_mass_dust_age_pred = pd.concat([tau_pred.iloc[:,1:],age_pred.iloc[:,1:],dust_predr.iloc[:,1:],pred_mass.iloc[:,1:],specs], ignore_index= True, axis=1,sort =False)"
      ],
      "execution_count": null,
      "outputs": []
    },
    {
      "cell_type": "code",
      "metadata": {
        "colab": {
          "base_uri": "https://localhost:8080/"
        },
        "id": "X7U8NBUWlpf2",
        "outputId": "7f72510a-1d5c-4600-c2dd-e084cd216c54"
      },
      "source": [
        "df_mass_dust_age_pred.head"
      ],
      "execution_count": null,
      "outputs": [
        {
          "output_type": "execute_result",
          "data": {
            "text/plain": [
              "<bound method NDFrame.head of           0         1         2    ...       851       852       853\n",
              "0    0.099917  0.500893  0.157452  ...  0.023532  0.023523  0.023560\n",
              "1    0.122994  0.908100  0.051851  ...  0.043910  0.043594  0.043794\n",
              "2    0.467589  2.114373  0.211950  ...  0.015475  0.015348  0.015374\n",
              "3    0.268155  0.591781  0.015622  ...  0.049791  0.049233  0.049177\n",
              "4    0.316997  0.559980  0.013777  ...  0.068354  0.067859  0.067661\n",
              "..        ...       ...       ...  ...       ...       ...       ...\n",
              "995  0.379192  0.689974  0.356280  ...  0.234346  0.233746  0.235702\n",
              "996  1.458494  0.203638  0.785045  ...  0.126414  0.128591  0.131057\n",
              "997  0.865535  0.547714  0.006934  ...  0.073292  0.072723  0.072523\n",
              "998  1.947167  1.019675  0.183786  ...  0.053276  0.053137  0.053471\n",
              "999  1.328402  0.404136  0.425458  ...  0.125763  0.127002  0.128654\n",
              "\n",
              "[1000 rows x 854 columns]>"
            ]
          },
          "metadata": {
            "tags": []
          },
          "execution_count": 500
        }
      ]
    },
    {
      "cell_type": "code",
      "metadata": {
        "id": "S_y3HhAQlz-W"
      },
      "source": [
        "LearningSet4 = df_mass_dust_age_pred"
      ],
      "execution_count": null,
      "outputs": []
    },
    {
      "cell_type": "code",
      "metadata": {
        "id": "O5xtmrGDl7Xe"
      },
      "source": [
        "X4_4 = df_mass_dust_age_pred.iloc[:,1:]\n",
        "Y4_4 = df_mass_dust_age_pred.iloc[:, :1] \n",
        "X4_4train, X4_3test, Y4_4train, Y4_4test = train_test_split(X4_4, Y4_4,test_size=0.2) "
      ],
      "execution_count": null,
      "outputs": []
    },
    {
      "cell_type": "markdown",
      "metadata": {
        "id": "C3y13s4BCXq4"
      },
      "source": [
        "###The scores look slightly better."
      ]
    },
    {
      "cell_type": "code",
      "metadata": {
        "colab": {
          "base_uri": "https://localhost:8080/"
        },
        "id": "ddsA1S06mEb2",
        "outputId": "4b6e9079-072e-4abd-b023-a9c25b53863e"
      },
      "source": [
        "scores4_4 = cross_val_score(model, X = X4_4train, y = Y4_4train, cv=5)\n",
        "print('Tau scores, 5th Pass',scores4_4)\n",
        "print('Tau scores, 4th Pass',scores4_3)\n",
        "print('Tau scores, 3rd Pass',scores4_2)\n",
        "print('Tau scores, 2nd Pass',scores4_rob)\n",
        "print('Tau scores, 1st Pass',scores4)"
      ],
      "execution_count": null,
      "outputs": [
        {
          "output_type": "stream",
          "text": [
            "[0.58380006 0.42647798 0.50209603 0.36865523 0.50354561]\n",
            "[0.49129071 0.45011454 0.50107111 0.60559366 0.46970312]\n",
            "[0.29534629 0.35881124 0.34571712 0.34484461 0.3224191 ]\n",
            "[-0.00712024 -0.07027395 -0.04112905 -0.01930043 -0.06182254]\n",
            "[-0.05421851  0.05836256  0.01834784 -0.33094303 -0.11320138]\n"
          ],
          "name": "stdout"
        }
      ]
    },
    {
      "cell_type": "code",
      "metadata": {
        "id": "2znois6ZmOyQ"
      },
      "source": [
        "ypred_tau5 = cross_val_predict(model, X4_4, Y4_4, cv = KFold(n_splits=5, shuffle=True))"
      ],
      "execution_count": null,
      "outputs": []
    },
    {
      "cell_type": "code",
      "metadata": {
        "colab": {
          "base_uri": "https://localhost:8080/"
        },
        "id": "ZjcAuFYLHCBC",
        "outputId": "b2e42a5b-69c1-4f5e-a03a-4477a35a17ff"
      },
      "source": [
        "print('R2 tau, 4th Pass' ,r2(Y4_4, ypred_tau4))\r\n",
        "print('R2 tau, 4th Pass' ,r2(Y4_3, ypred_tau4))\r\n",
        "print('R2 tau, 3rd Pass' ,r2(Y4_2, ypred_tau3))\r\n",
        "print('R2 tau, 2nd Pass' , r2(Y4, ypred_tau_rob))\r\n",
        "print('R2 tau, 1st Pass' , r2(Y4, ypred_tau))"
      ],
      "execution_count": null,
      "outputs": [
        {
          "output_type": "stream",
          "text": [
            "R2 tau, 4th Pass 0.525192107020621\n",
            "R2 tau, 4th Pass 0.47705693186547804\n",
            "R2 tau, 3rd Pass -0.3232995602304778\n",
            "R2 tau, 2nd Pass -0.043338765384293376\n",
            "R2 tau, 1st Pass -0.041406796713423955\n"
          ],
          "name": "stdout"
        }
      ]
    },
    {
      "cell_type": "markdown",
      "metadata": {
        "id": "gU44z3RpCdCr"
      },
      "source": [
        "###There is not much change to the plot of the fifth  prediction set of tau."
      ]
    },
    {
      "cell_type": "code",
      "metadata": {
        "colab": {
          "base_uri": "https://localhost:8080/",
          "height": 369
        },
        "id": "t6oG5kKamueL",
        "outputId": "1250e4e3-fa26-44c3-8628-8dedb6beef7e"
      },
      "source": [
        "plt.scatter(Y4_4,ypred_tau4, s = 20, c = 'magenta')\n",
        "plt.title('Tau (True vs. Predicted) 5th Pass')\n",
        "plt.xlabel('True Tau' , fontsize=14)\n",
        "plt.ylabel('Predicted Tau',fontsize=14)\n",
        "plt.axis('square')"
      ],
      "execution_count": null,
      "outputs": [
        {
          "output_type": "execute_result",
          "data": {
            "text/plain": [
              "(-0.23794733513984045,\n",
              " 5.284186888651191,\n",
              " -0.1416226064421513,\n",
              " 5.38051161734888)"
            ]
          },
          "metadata": {
            "tags": []
          },
          "execution_count": 505
        },
        {
          "output_type": "display_data",
          "data": {
            "image/png": "[encoded data removed]",
            "text/plain": [
              "<Figure size 432x288 with 1 Axes>"
            ]
          },
          "metadata": {
            "tags": [],
            "needs_background": "light"
          }
        }
      ]
    },
    {
      "cell_type": "markdown",
      "metadata": {
        "id": "SA9rLRcvPN6b"
      },
      "source": [
        "##Resources:\r\n",
        "\r\n",
        "####https://scikit-learn.org/stable/modules/generated/sklearn.preprocessing.RobustScaler.html\r\n",
        "\r\n",
        "####https://ogrisel.github.io/scikit-learn.org/sklearn-tutorial/modules/generated/sklearn.neighbors.KNeighborsRegressor.html\r\n",
        "\r\n",
        "####https://scikit-learn.org/stable/modules/model_evaluation.html\r\n",
        "\r\n",
        "####https://stackoverflow.com/questions/32801806/pandas-concat-ignore-index-doesnt-work\r\n",
        "\r\n",
        "####https://youtu.be/yPVQZZmheCg\r\n",
        "\r\n",
        "####https://pandas.pydata.org/pandas-docs/stable/reference/api/pandas.DataFrame.to_excel.html\r\n",
        "\r\n",
        "####https://www.geeksforgeeks.org/python-change-column-names-and-row-indexes-in-pandas-dataframe/\r\n",
        "\r\n",
        "####https://stackoverflow.com/questions/46411507/get-corresponding-index-of-median\r\n",
        "\r\n",
        "####https://python4astronomers.github.io/core/numpy_scipy.html"
      ]
    }
  ]
}