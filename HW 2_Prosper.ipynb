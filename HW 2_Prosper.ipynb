{
 "cells": [
  {
   "cell_type": "markdown",
   "metadata": {},
   "source": [
    "### PHYS3600 ID, Fall 2020 - Worksheet 2 - due September 29"
   ]
  },
  {
   "cell_type": "markdown",
   "metadata": {},
   "source": [
    "#### Please upload to Blackboard the .ipynb file, containing your last name."
   ]
  },
  {
   "cell_type": "markdown",
   "metadata": {},
   "source": [
    "#### Original work statement: \n",
    "\n",
    "Please write your name here to indicate that your worksheet is the result of your own work, and you have not copied from sources without citing them (this is plagiarism and is not acceptable). Identical or very similar worksheet will share the credit.\n",
    "\n",
    "#### Your name: Patrice Prosper"
   ]
  },
  {
   "cell_type": "code",
   "execution_count": 184,
   "metadata": {},
   "outputs": [],
   "source": [
    "#Let's start with our imports!\n",
    "import pandas as pd \n",
    "import numpy as np\n",
    "import matplotlib.pyplot as plt\n",
    "%matplotlib inline\n",
    "from sklearn.linear_model import LinearRegression\n",
    "from scipy.optimize import curve_fit"
   ]
  },
  {
   "cell_type": "markdown",
   "metadata": {
    "collapsed": true
   },
   "source": [
    "#### 1. Import the data from the file DataHW2.txt\n",
    "\n",
    "This data set contains three columns for a bi-dimensional data set. They don't have a specific physical meaning.\n",
    "\n",
    "The first one is the x coordinate.\n",
    "\n",
    "The second column is the y coordinate.\n",
    "\n",
    "The third column contains the error on the y coordinate.\n",
    "\n",
    "Import the data, paying attention to any format issue, as a numpy array with 3 columns."
   ]
  },
  {
   "cell_type": "code",
   "execution_count": 185,
   "metadata": {},
   "outputs": [
    {
     "name": "stdout",
     "output_type": "stream",
     "text": [
      "[[ 0.000e+00  5.250e+00  1.332e+00]\n",
      " [ 1.000e-01  4.080e+00  7.150e-01]\n",
      " [ 2.000e-01  4.110e+00 -1.545e+00]\n",
      " [ 3.000e-01  9.000e-02 -8.000e-03]\n",
      " [ 4.000e-01  1.670e+00  6.210e-01]\n",
      " [ 5.000e-01  3.790e+00 -7.200e-01]\n",
      " [ 6.000e-01  4.130e+00  2.660e-01]\n",
      " [ 7.000e-01  1.220e+00  1.090e-01]\n",
      " [ 8.000e-01  3.110e+00  4.000e-03]\n",
      " [ 9.000e-01  2.770e+00 -1.750e-01]\n",
      " [ 1.000e+00  2.460e+00  4.330e-01]\n",
      " [ 1.100e+00  1.100e+00  1.203e+00]\n",
      " [ 1.200e+00  4.800e-01 -9.650e-01]\n",
      " [ 1.300e+00  2.100e-01  1.028e+00]\n",
      " [ 1.400e+00 -6.100e-01  2.290e-01]\n",
      " [ 1.500e+00  1.350e+00  4.450e-01]\n",
      " [ 1.600e+00  7.400e-01 -1.137e+00]\n",
      " [ 1.700e+00  2.820e+00  1.350e-01]\n",
      " [ 1.800e+00  1.890e+00  1.485e+00]\n",
      " [ 1.900e+00  7.700e-01 -1.080e+00]\n",
      " [ 2.000e+00 -2.400e-01 -1.978e+00]\n",
      " [ 2.100e+00 -4.710e+00 -1.743e+00]\n",
      " [ 2.200e+00  1.180e+00  2.660e-01]\n",
      " [ 2.300e+00  1.280e+00  2.385e+00]\n",
      " [ 2.400e+00 -1.140e+00  1.124e+00]\n",
      " [ 2.500e+00 -1.180e+00  1.673e+00]\n",
      " [ 2.600e+00 -1.350e+00  9.900e-02]\n",
      " [ 2.700e+00  8.000e-01  1.398e+00]\n",
      " [ 2.800e+00 -1.420e+00 -2.710e-01]\n",
      " [ 2.900e+00 -4.720e+00  6.130e-01]\n",
      " [ 3.000e+00 -3.250e+00 -2.670e-01]\n",
      " [ 3.100e+00 -3.760e+00 -5.490e-01]\n",
      " [ 3.200e+00 -1.080e+00  1.330e-01]\n",
      " [ 3.300e+00  3.100e-01 -4.760e-01]\n",
      " [ 3.400e+00 -4.120e+00  1.308e+00]\n",
      " [ 3.500e+00 -5.280e+00  1.950e-01]\n",
      " [ 3.600e+00 -2.450e+00  4.000e-01]\n",
      " [ 3.700e+00 -5.590e+00 -3.380e-01]\n",
      " [ 3.800e+00 -3.130e+00  1.256e+00]\n",
      " [ 3.900e+00 -5.410e+00 -7.320e-01]\n",
      " [ 4.000e+00 -4.480e+00  6.600e-01]\n",
      " [ 4.100e+00 -3.750e+00 -3.510e-01]\n",
      " [ 4.200e+00 -5.250e+00 -9.390e-01]\n",
      " [ 4.300e+00 -2.420e+00 -4.890e-01]\n",
      " [ 4.400e+00 -3.880e+00 -8.050e-01]\n",
      " [ 4.500e+00 -4.160e+00 -2.130e-01]\n",
      " [ 4.600e+00 -4.580e+00 -3.390e-01]\n",
      " [ 4.700e+00 -3.480e+00  3.120e-01]\n",
      " [ 4.800e+00 -3.900e+00  5.650e-01]\n",
      " [ 4.900e+00 -3.890e+00 -1.470e-01]\n",
      " [ 5.000e+00 -5.300e+00 -2.600e-02]\n",
      " [ 5.100e+00 -1.002e+01  2.890e-01]\n",
      " [ 5.200e+00 -7.190e+00 -5.400e-01]\n",
      " [ 5.300e+00 -6.600e+00  7.080e-01]\n",
      " [ 5.400e+00 -5.590e+00  8.420e-01]\n",
      " [ 5.500e+00 -4.910e+00  2.040e-01]\n",
      " [ 5.600e+00 -7.510e+00  2.395e+00]\n",
      " [ 5.700e+00 -5.270e+00  9.170e-01]\n",
      " [ 5.800e+00 -9.700e+00 -1.120e-01]\n",
      " [ 5.900e+00 -9.010e+00 -3.620e-01]\n",
      " [ 6.000e+00 -9.170e+00 -2.320e-01]\n",
      " [ 6.100e+00 -8.040e+00 -5.020e-01]\n",
      " [ 6.200e+00 -7.650e+00  1.129e+00]\n",
      " [ 6.300e+00 -8.380e+00 -6.980e-01]\n",
      " [ 6.400e+00 -6.960e+00 -8.100e-02]\n",
      " [ 6.500e+00 -1.041e+01 -5.290e-01]\n",
      " [ 6.600e+00 -6.240e+00  1.046e+00]\n",
      " [ 6.700e+00 -8.890e+00 -1.419e+00]\n",
      " [ 6.800e+00 -8.620e+00 -3.620e-01]\n",
      " [ 6.900e+00 -1.190e+01 -1.220e-01]\n",
      " [ 7.000e+00 -9.860e+00  3.190e-01]\n",
      " [ 7.100e+00 -1.052e+01  4.610e-01]\n",
      " [ 7.200e+00 -1.161e+01 -2.160e-01]\n",
      " [ 7.300e+00 -1.133e+01  9.890e-01]\n",
      " [ 7.400e+00 -1.216e+01  3.150e-01]\n",
      " [ 7.500e+00 -1.168e+01  2.468e+00]\n",
      " [ 7.600e+00 -1.154e+01 -1.508e+00]\n",
      " [ 7.700e+00 -1.075e+01  6.210e-01]\n",
      " [ 7.800e+00 -1.069e+01 -1.045e+00]\n",
      " [ 7.900e+00 -1.111e+01 -7.980e-01]\n",
      " [ 8.000e+00 -1.195e+01  1.985e+00]\n",
      " [ 8.100e+00 -1.080e+01  1.745e+00]\n",
      " [ 8.200e+00 -1.220e+01 -1.856e+00]\n",
      " [ 8.300e+00 -1.154e+01 -2.230e-01]\n",
      " [ 8.400e+00 -1.338e+01 -6.600e-02]\n",
      " [ 8.500e+00 -1.095e+01 -2.132e+00]\n",
      " [ 8.600e+00 -1.377e+01 -4.900e-02]\n",
      " [ 8.700e+00 -1.178e+01  3.930e-01]\n",
      " [ 8.800e+00 -1.493e+01  2.170e-01]\n",
      " [ 8.900e+00 -1.649e+01 -1.994e+00]\n",
      " [ 9.000e+00 -1.245e+01  1.108e+00]\n",
      " [ 9.100e+00 -1.467e+01  2.450e-01]\n",
      " [ 9.200e+00 -1.644e+01 -6.200e-02]\n",
      " [ 9.300e+00 -1.660e+01 -7.540e-01]\n",
      " [ 9.400e+00 -1.710e+01  7.120e-01]\n",
      " [ 9.500e+00 -1.757e+01  9.180e-01]\n",
      " [ 9.600e+00 -1.669e+01 -4.820e-01]\n",
      " [ 9.700e+00 -1.462e+01  9.000e-02]\n",
      " [ 9.800e+00 -1.694e+01  8.270e-01]\n",
      " [ 9.900e+00 -1.459e+01 -1.955e+00]]\n"
     ]
    }
   ],
   "source": [
    "data = np.round(np.genfromtxt(\"DataHW2.csv\", skip_header=1, delimiter=\",\"),3);\n",
    "print(data)"
   ]
  },
  {
   "cell_type": "markdown",
   "metadata": {},
   "source": [
    "#### Task 2: Make an errorbar plot of this data set.\n",
    "\n",
    "Place x (first col) on x axis, y (second col) on the y axis, and the error (third col) as the error on y; do not connect the points with a line. We assume that x has no uncertainty for the time being.\n",
    "\n",
    "Add labels to the axes. "
   ]
  },
  {
   "cell_type": "code",
   "execution_count": 186,
   "metadata": {},
   "outputs": [
    {
     "data": {
      "image/png": "[encoded data removed]",
      "text/plain": [
       "<Figure size 1440x720 with 1 Axes>"
      ]
     },
     "metadata": {
      "needs_background": "light"
     },
     "output_type": "display_data"
    },
    {
     "name": "stdout",
     "output_type": "stream",
     "text": [
      "-5.976900000000001\n",
      "4.95\n"
     ]
    }
   ],
   "source": [
    "x = data[:,0]\n",
    "y= data[:,1]\n",
    "dy = data[:,2]\n",
    "plt.figure(figsize=(20,10))\n",
    "plt.xlabel(\"X-axis\")\n",
    "plt.ylabel(\"Y-axis\")\n",
    "plt.errorbar(x, y, yerr=dy,color='magenta', ecolor='y', fmt='o', elinewidth=2, capsize= 2, errorevery=1)\n",
    "plt.show()\n",
    "print(y.mean())\n",
    "print(x.mean())"
   ]
  },
  {
   "cell_type": "markdown",
   "metadata": {},
   "source": [
    "#### Task 3: Define the model grid.\n",
    "    \n",
    "Assume that the data can be fit by a straight line, with parameters slope and intercept.\n",
    "\n",
    "Pick a suitable range of slopes and intercepts, and justify (explain) your choice. Divide your slope/intercept intervals in 50 points.\n",
    "\n"
   ]
  },
  {
   "cell_type": "code",
   "execution_count": 187,
   "metadata": {},
   "outputs": [
    {
     "data": {
      "text/plain": [
       "LinregressResult(slope=-2.026385238523852, intercept=4.053706930693067, rvalue=-0.9680916844167359, pvalue=1.0435738241995338e-60, stderr=0.05298672629499245)"
      ]
     },
     "execution_count": 187,
     "metadata": {},
     "output_type": "execute_result"
    }
   ],
   "source": [
    "from scipy.stats import linregress\n",
    "linregress(x, y)"
   ]
  },
  {
   "cell_type": "code",
   "execution_count": 188,
   "metadata": {},
   "outputs": [
    {
     "name": "stdout",
     "output_type": "stream",
     "text": [
      "slopes range\n",
      " [-3.         -2.93877551 -2.87755102 -2.81632653 -2.75510204 -2.69387755\n",
      " -2.63265306 -2.57142857 -2.51020408 -2.44897959 -2.3877551  -2.32653061\n",
      " -2.26530612 -2.20408163 -2.14285714 -2.08163265 -2.02040816 -1.95918367\n",
      " -1.89795918 -1.83673469 -1.7755102  -1.71428571 -1.65306122 -1.59183673\n",
      " -1.53061224 -1.46938776 -1.40816327 -1.34693878 -1.28571429 -1.2244898\n",
      " -1.16326531 -1.10204082 -1.04081633 -0.97959184 -0.91836735 -0.85714286\n",
      " -0.79591837 -0.73469388 -0.67346939 -0.6122449  -0.55102041 -0.48979592\n",
      " -0.42857143 -0.36734694 -0.30612245 -0.24489796 -0.18367347 -0.12244898\n",
      " -0.06122449  0.        ] \n",
      "intercepts range\n",
      " [3.         3.06122449 3.12244898 3.18367347 3.24489796 3.30612245\n",
      " 3.36734694 3.42857143 3.48979592 3.55102041 3.6122449  3.67346939\n",
      " 3.73469388 3.79591837 3.85714286 3.91836735 3.97959184 4.04081633\n",
      " 4.10204082 4.16326531 4.2244898  4.28571429 4.34693878 4.40816327\n",
      " 4.46938776 4.53061224 4.59183673 4.65306122 4.71428571 4.7755102\n",
      " 4.83673469 4.89795918 4.95918367 5.02040816 5.08163265 5.14285714\n",
      " 5.20408163 5.26530612 5.32653061 5.3877551  5.44897959 5.51020408\n",
      " 5.57142857 5.63265306 5.69387755 5.75510204 5.81632653 5.87755102\n",
      " 5.93877551 6.        ]\n"
     ]
    }
   ],
   "source": [
    "# m =np.round((x*y.mean() - x.mean()*y.mean()) / ((x**2).mean() - (x.mean())**2),1)\n",
    "# b = np.round(np.mean(y) - m*np.mean(x),1)\n",
    "\n",
    "slopes = np.linspace(-3, 0, 50)\n",
    "intercepts = np.linspace(3,6,50)\n",
    "\n",
    "print('slopes range\\n', slopes,'\\n' 'intercepts range\\n', intercepts)\n"
   ]
  },
  {
   "cell_type": "markdown",
   "metadata": {},
   "source": [
    "#### Task 4: Define a function for the model response, and  the squared error function. \n",
    "    \n",
    "Setting aside the uncertainties for the moment, define the a function that returns the model prediction for the y coordinate of the line as a function of slope and intercept, and a function that returns the square error of the model, summed over all data points (this mirrors closely what we did in the notebook in class!) \n",
    "    "
   ]
  },
  {
   "cell_type": "code",
   "execution_count": 189,
   "metadata": {},
   "outputs": [],
   "source": [
    "def model(x,m,b):\n",
    "    return m*x+b \n",
    "\n",
    "def se(m,b,x,y):\n",
    "    return ((model(x,m,b) - y)**2).sum()\n",
    "#print('square error is', se(m,b,x,y))"
   ]
  },
  {
   "cell_type": "markdown",
   "metadata": {},
   "source": [
    "#### Task 5: Calculate the square error for all the combinations, and find the best fit model.\n",
    "\n",
    "Calculate the square error for all the combinations, and from there find the minimum square error value, and the values of slope and intercept that correspond to it (i.e., the parameters of the best fit model)."
   ]
  },
  {
   "cell_type": "code",
   "execution_count": 190,
   "metadata": {},
   "outputs": [],
   "source": [
    "sqr_errs = np.array([[se(m,b,x,y) for b in intercepts] for m in slopes]) \n",
    "#print(sqr_errs)"
   ]
  },
  {
   "cell_type": "code",
   "execution_count": 191,
   "metadata": {},
   "outputs": [
    {
     "name": "stdout",
     "output_type": "stream",
     "text": [
      "(50, 50)\n",
      "2500\n",
      "229.32148992086633\n",
      "817\n",
      "(16, 17)\n",
      "minimum square errors x= -2.020408163265306 y= 4.040816326530612\n"
     ]
    }
   ],
   "source": [
    "print(sqr_errs.shape) \n",
    "print(sqr_errs.size)\n",
    "print(sqr_errs.min())\n",
    "print(sqr_errs.argmin())\n",
    "indices = np.unravel_index(sqr_errs.argmin(),sqr_errs.shape)\n",
    "print(indices)  \n",
    "bm=slopes[indices[0]]\n",
    "bb=intercepts[indices[1]]\n",
    "print('minimum square errors','x=', bm, 'y=', bb)"
   ]
  },
  {
   "cell_type": "markdown",
   "metadata": {},
   "source": [
    "#### Task 6: Plot the best fit line, and the data points, in a scatter plot."
   ]
  },
  {
   "cell_type": "code",
   "execution_count": 192,
   "metadata": {},
   "outputs": [
    {
     "data": {
      "image/png": "[encoded data removed]",
      "text/plain": [
       "<Figure size 720x720 with 1 Axes>"
      ]
     },
     "metadata": {
      "needs_background": "light"
     },
     "output_type": "display_data"
    }
   ],
   "source": [
    "#model = LinearRegression(fit_intercept=True)\n",
    "#model.fit(x[:, np.newaxis], y)\n",
    "#y2 = model.predict(x[:, np.newaxis]) #checking\n",
    "y2= bb + bm * x \n",
    "\n",
    "plt.figure(figsize=(10,10))\n",
    "plt.title(\"Best Fit w/o uncertainties\")\n",
    "plt.xlabel(\"X-time\")\n",
    "plt.ylabel(\"Y-distance\")\n",
    "plt.scatter(x, y, c='blue')\n",
    "plt.plot(x, y2, color='red');\n",
    "plt.grid()\n",
    "plt.rcParams.update({'font.size': 15})"
   ]
  },
  {
   "cell_type": "markdown",
   "metadata": {},
   "source": [
    "#### Task 7: Now define a new function, called e.g. chisquare, that adds inverse weighing of the uncertainties dy. \n",
    "\n",
    "It will take an additional argument compared to the square error function. Refer to the slides if you need help!"
   ]
  },
  {
   "cell_type": "code",
   "execution_count": 193,
   "metadata": {},
   "outputs": [],
   "source": [
    "def chisquare(x,m,b,y,dy):\n",
    "    sigma = dy\n",
    "    return np.sum((y-(b+m*x))**2/sigma**2)"
   ]
  },
  {
   "cell_type": "code",
   "execution_count": 194,
   "metadata": {},
   "outputs": [
    {
     "name": "stdout",
     "output_type": "stream",
     "text": [
      "[ 1.332  0.715 -1.545 -0.008  0.621 -0.72   0.266  0.109  0.004 -0.175\n",
      "  0.433  1.203 -0.965  1.028  0.229  0.445 -1.137  0.135  1.485 -1.08\n",
      " -1.978 -1.743  0.266  2.385  1.124  1.673  0.099  1.398 -0.271  0.613\n",
      " -0.267 -0.549  0.133 -0.476  1.308  0.195  0.4   -0.338  1.256 -0.732\n",
      "  0.66  -0.351 -0.939 -0.489 -0.805 -0.213 -0.339  0.312  0.565 -0.147\n",
      " -0.026  0.289 -0.54   0.708  0.842  0.204  2.395  0.917 -0.112 -0.362\n",
      " -0.232 -0.502  1.129 -0.698 -0.081 -0.529  1.046 -1.419 -0.362 -0.122\n",
      "  0.319  0.461 -0.216  0.989  0.315  2.468 -1.508  0.621 -1.045 -0.798\n",
      "  1.985  1.745 -1.856 -0.223 -0.066 -2.132 -0.049  0.393  0.217 -1.994\n",
      "  1.108  0.245 -0.062 -0.754  0.712  0.918 -0.482  0.09   0.827 -1.955]\n"
     ]
    }
   ],
   "source": [
    "print(dy)"
   ]
  },
  {
   "cell_type": "markdown",
   "metadata": {},
   "source": [
    "#### Task 8: Calculate the chi square for all the models in the grid, and again find the best fit model (slope and intercept of the best fitting line)."
   ]
  },
  {
   "cell_type": "code",
   "execution_count": 195,
   "metadata": {},
   "outputs": [
    {
     "name": "stdout",
     "output_type": "stream",
     "text": [
      "201989.9171115847\n",
      "620\n",
      "(12, 20)\n",
      "minimum square errors x= -2.2653061224489797 y= 4.224489795918368\n"
     ]
    }
   ],
   "source": [
    "chisqr_errs=np.array([[chisquare(x,m,b,y,dy) for m in slopes] for b in intercepts])\n",
    "\n",
    "print(chisqr_errs.min())\n",
    "print(chisqr_errs.argmin())\n",
    "indices = np.unravel_index(chisqr_errs.argmin(),chisqr_errs.shape)\n",
    "print(indices)  \n",
    "bm2=slopes[indices[0]]\n",
    "bb2=intercepts[indices[1]]\n",
    "print('minimum square errors','x=', bm2, 'y=', bb2)"
   ]
  },
  {
   "cell_type": "code",
   "execution_count": 196,
   "metadata": {},
   "outputs": [
    {
     "data": {
      "image/png": "[encoded data removed]",
      "text/plain": [
       "<Figure size 720x720 with 1 Axes>"
      ]
     },
     "metadata": {
      "needs_background": "light"
     },
     "output_type": "display_data"
    }
   ],
   "source": [
    "y3= bb2 + bm2 * x \n",
    "\n",
    "plt.figure(figsize=(10,10))\n",
    "plt.title(\"Best Fit w/ uncertainties\")\n",
    "plt.xlabel(\"X-time\")\n",
    "plt.ylabel(\"Y-distance\")\n",
    "plt.scatter(x, y, c='blue')\n",
    "plt.plot(x, y3, color='red');\n",
    "\n",
    "plt.grid()\n",
    "plt.rcParams.update({'font.size': 15})\n",
    "\n"
   ]
  },
  {
   "cell_type": "markdown",
   "metadata": {},
   "source": [
    "#### Task 9: Answer the questions. \n",
    "\n",
    "Did the best fit change? Why or why not? Which one is a better estimate of the best fit line, the one you obtained in 7 or this one? Why?  "
   ]
  },
  {
   "cell_type": "markdown",
   "metadata": {},
   "source": [
    "The best fit did change very much. Though not entirely visible on the graph, the value of the least error for slopes and \n",
    "intercepts did chamge from -2.02 to -2.04 and 4.05 to 4.0 respectively. The best fit with uncertainties seems to be a \n",
    "better fit line since it is touching several more points than the fit line wiothout the uncertainties."
   ]
  },
  {
   "cell_type": "markdown",
   "metadata": {},
   "source": [
    "#### Task 10. Repeat the operations of 3. and 5. using 100 values for each variable, instead of 50.\n",
    "\n",
    "Also answer: Does the best fit change? If so, do you think the change is significant or negligible? Why?"
   ]
  },
  {
   "cell_type": "code",
   "execution_count": 198,
   "metadata": {},
   "outputs": [
    {
     "name": "stdout",
     "output_type": "stream",
     "text": [
      "(100, 100)\n",
      "10000\n",
      "229.27720858075705\n",
      "9607\n",
      "(96, 7)\n",
      "minimum square errors x= -2.0303030303030303 y= 4.070707070707071\n"
     ]
    },
    {
     "data": {
      "image/png": "[encoded data removed]",
      "text/plain": [
       "<Figure size 720x720 with 1 Axes>"
      ]
     },
     "metadata": {
      "needs_background": "light"
     },
     "output_type": "display_data"
    }
   ],
   "source": [
    "slopes2 = np.linspace(-3, -2, 100)\n",
    "intercepts2 = np.linspace(4,5,100)\n",
    "\n",
    "sqr_errs2 = np.array([[se(m,b,x,y) for b in intercepts2] for m in slopes2]) \n",
    "\n",
    "\n",
    "print(sqr_errs2.shape) \n",
    "print(sqr_errs2.size)\n",
    "print(sqr_errs2.min())\n",
    "print(sqr_errs2.argmin())\n",
    "indices2 = np.unravel_index(sqr_errs2.argmin(),(sqr_errs2.shape))\n",
    "print(indices2)  \n",
    "bm3=slopes2[indices2[0]]\n",
    "bb3=intercepts2[indices2[1]]\n",
    "\n",
    "print('minimum square errors','x=', bm3, 'y=', bb3)\n",
    "y4= bb3 + bm3 * x \n",
    "\n",
    "plt.figure(figsize=(10,10))\n",
    "plt.title(\"Best Fit w/o uncertainties\")\n",
    "plt.xlabel(\"X-time\")\n",
    "plt.ylabel(\"Y-distance\")\n",
    "plt.scatter(x, y, c='blue')\n",
    "plt.plot(x, y4, color='red');\n",
    "plt.grid()\n",
    "plt.rcParams.update({'font.size': 15})\n"
   ]
  },
  {
   "cell_type": "markdown",
   "metadata": {},
   "source": [
    "There is not much change in the least squared error although the slope decreased by -.01 and intecept increased by .05\n",
    "While visibly there is seems to be no significant change in the graph, the best fit line passes through fewer points\n",
    "Therefore the change can not be negligible "
   ]
  },
  {
   "cell_type": "markdown",
   "metadata": {},
   "source": [
    "####  Task 11. Keeping the intercept fixed at 4.0, plot the chi square function as a function of the slope value. \n",
    "\n",
    "The slope will be on the x axis and vary in the interval you previously chose. What is the shape of the curve? "
   ]
  },
  {
   "cell_type": "code",
   "execution_count": 246,
   "metadata": {},
   "outputs": [
    {
     "name": "stdout",
     "output_type": "stream",
     "text": [
      "[431772.18555074 407253.91245526 384144.34441183 362443.48142044\n",
      " 342151.32348111 323267.87059382 305793.12275859 289727.07997541\n",
      " 275069.74224427 261821.10956519 249981.18193816 239549.95936318\n",
      " 230527.44184024 222913.62936936 216708.52195053 211912.11958375\n",
      " 208524.42226902 206545.43000634 205975.1427957  206813.56063712\n",
      " 209060.68353059 212716.51147611 217781.04447368 224254.2825233\n",
      " 232136.22562497 241426.87377869 252126.22698446 264234.28524228\n",
      " 277751.04855215 292676.51691407 309010.69032804 326753.56879406\n",
      " 345905.15231214 366465.44088226 388434.43450443 411812.13317865\n",
      " 436598.53690492 462793.64568324 490397.45951362 519409.97839604\n",
      " 549831.20233051 581661.13131703 614899.76535561 649547.10444623\n",
      " 685603.1485889  723067.89778363 761941.3520304  802223.51132922\n",
      " 843914.3756801  887013.94508302]\n",
      "205975.1427957048\n"
     ]
    }
   ],
   "source": [
    "chis = np.array([chisquare(x,m,4,y,dy) for m in slopes])\n",
    "print(chis)\n",
    "print(min(chis))"
   ]
  },
  {
   "cell_type": "code",
   "execution_count": 201,
   "metadata": {},
   "outputs": [
    {
     "data": {
      "text/plain": [
       "[<matplotlib.lines.Line2D at 0x265590d95c8>]"
      ]
     },
     "execution_count": 201,
     "metadata": {},
     "output_type": "execute_result"
    },
    {
     "data": {
      "image/png": "[encoded data removed]",
      "text/plain": [
       "<Figure size 432x288 with 1 Axes>"
      ]
     },
     "metadata": {
      "needs_background": "light"
     },
     "output_type": "display_data"
    }
   ],
   "source": [
    "plt.plot( slopes, chis )"
   ]
  },
  {
   "cell_type": "markdown",
   "metadata": {},
   "source": [
    "The curve is parabolic and and inverse to the normallized gaussuian dustribution. It shouws that the least error can be \n",
    "#can be found when the slope is at -1.8 for the intercept of 4."
   ]
  },
  {
   "cell_type": "markdown",
   "metadata": {},
   "source": [
    "#### Task 12. Extra credit.\n",
    "\n",
    "After looking at 13, could you suggest a way to find the slope corresponding to the minimum chi square without having to explore the whole grid of parameters?"
   ]
  },
  {
   "cell_type": "code",
   "execution_count": 434,
   "metadata": {},
   "outputs": [
    {
     "name": "stdout",
     "output_type": "stream",
     "text": [
      "Warning: Desired error not necessarily achieved due to precision loss.\n",
      "         Current function value: -2245452961179607518331884125331861002070594579858568196448242857199848831644326427553728471141320911047206388465268648959750043291106338749415341523206144.000000\n",
      "         Iterations: 1\n",
      "         Function evaluations: 348\n",
      "         Gradient evaluations: 112\n",
      "(array([-1034.24]), array([-2.24545296e+153]), array([1.06386518e+152]), array([[-9.72153254e-150]]), 348, 112, 2)\n"
     ]
    },
    {
     "name": "stderr",
     "output_type": "stream",
     "text": [
      "C:\\Users\\patri\\anaconda3\\lib\\site-packages\\numpy\\lib\\polynomial.py:736: RuntimeWarning: overflow encountered in multiply\n",
      "  y = y * x + p[i]\n",
      "C:\\Users\\patri\\anaconda3\\lib\\site-packages\\scipy\\optimize\\optimize.py:697: RuntimeWarning: invalid value encountered in subtract\n",
      "  df = (f(*((xk + d,) + args)) - f0) / d[k]\n"
     ]
    }
   ],
   "source": [
    "import scipy.optimize as opt\n",
    "\n",
    "f = np.poly1d(chis)\n",
    "opt.fmin_bfgs(f,[0], maxiter=2500,full_output=True)\n",
    "print(format(xopt))"
   ]
  },
  {
   "cell_type": "markdown",
   "metadata": {},
   "source": [
    "My thought process was to find the minimum chis values and using that plug it into the chiasquare function to get back the x \n",
    "values I ran into problems; getting the error messages \"TypeError: 'numpy.ndarray' object is not callable\". Then I did some reaserach \n",
    "and found this scipy optimizer which could give back the slope from minimum chis without having to look at every point. Clearly\n",
    "I am doing something incorrectly as the values are way too small."
   ]
  },
  {
   "cell_type": "markdown",
   "metadata": {},
   "source": [
    "References:\n",
    "https://www.dataquest.io/blog/pandas-concatenation-tutorial/ \n",
    "https://towardsdatascience.com/linear-regression-in-6-lines-of-python-5e1d0cd05b8d\n",
    "https://www.bmj.com/about-bmj/resources-readers/publications/statistics-square-one/8-chi-squared-tests https://docs.scipy.org/doc/scipy/reference/generated/scipy.optimize.curve_fit.html\n",
    "https://docs.scipy.org/doc/scipy/reference/optimize.minimize-bfgs.html\n",
    "https://docs.scipy.org/doc/scipy/reference/optimize.html"
   ]
  },
  {
   "cell_type": "code",
   "execution_count": null,
   "metadata": {},
   "outputs": [],
   "source": []
  }
 ],
 "metadata": {
  "kernelspec": {
   "display_name": "Python 3",
   "language": "python",
   "name": "python3"
  },
  "language_info": {
   "codemirror_mode": {
    "name": "ipython",
    "version": 3
   },
   "file_extension": ".py",
   "mimetype": "text/x-python",
   "name": "python",
   "nbconvert_exporter": "python",
   "pygments_lexer": "ipython3",
   "version": "3.7.6"
  }
 },
 "nbformat": 4,
 "nbformat_minor": 2
}
